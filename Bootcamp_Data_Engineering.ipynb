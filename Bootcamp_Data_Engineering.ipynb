{
  "nbformat": 4,
  "nbformat_minor": 0,
  "metadata": {
    "colab": {
      "name": "Bootcamp Data Engineering.ipynb",
      "provenance": [],
      "collapsed_sections": [],
      "mount_file_id": "1pFBFsiHnrDB8tnPQdX_5fjlrPxTj5u8i",
      "authorship_tag": "ABX9TyOlisC06Z+9aRnjhp1gn5fz",
      "include_colab_link": true
    },
    "kernelspec": {
      "name": "python3",
      "display_name": "Python 3"
    }
  },
  "cells": [
    {
      "cell_type": "markdown",
      "metadata": {
        "id": "view-in-github",
        "colab_type": "text"
      },
      "source": [
        "<a href=\"https://colab.research.google.com/github/renzoziegler/data_engineering_bootcamp/blob/main/Bootcamp_Data_Engineering.ipynb\" target=\"_parent\"><img src=\"https://colab.research.google.com/assets/colab-badge.svg\" alt=\"Open In Colab\"/></a>"
      ]
    },
    {
      "cell_type": "markdown",
      "metadata": {
        "id": "IkOKeo-bCZD1"
      },
      "source": [
        "Temos duas bases de dados pessoais (fictícios)\r\n",
        "\r\n",
        "\r\n",
        "*   cadastro.csv (dados de cadastro)\r\n",
        "*   dados_medicos.csv (registros médicos)\r\n",
        "\r\n",
        "Temos que unificar as duas bases e criar uma nova base agrupada\r\n"
      ]
    },
    {
      "cell_type": "markdown",
      "metadata": {
        "id": "b0BumJeBDsHw"
      },
      "source": [
        "Exercício 1:\r\n",
        "\r\n",
        "\r\n",
        "*   Importar o Pandas\r\n",
        "*   Instalar e importa a biblioteca fuzzywuzzy (será importante mais pra frente)\r\n",
        "*   Ler os arquivos CSV fornecidos\r\n",
        "*   Realizar uma análise exploratória dos dados\r\n",
        "\r\n"
      ]
    },
    {
      "cell_type": "code",
      "metadata": {
        "colab": {
          "base_uri": "https://localhost:8080/"
        },
        "id": "LcnIYSGts92R",
        "outputId": "338a8c0b-e1f4-4dd4-df7e-ddc5a2c5c05c"
      },
      "source": [
        "#Instalar libs\r\n",
        "!pip install fuzzywuzzy\r\n",
        "\r\n",
        "#Importar as libs necessárias\r\n",
        "import pandas as pd\r\n",
        "from fuzzywuzzy import fuzz"
      ],
      "execution_count": 2,
      "outputs": [
        {
          "output_type": "stream",
          "text": [
            "Collecting fuzzywuzzy\n",
            "  Downloading https://files.pythonhosted.org/packages/43/ff/74f23998ad2f93b945c0309f825be92e04e0348e062026998b5eefef4c33/fuzzywuzzy-0.18.0-py2.py3-none-any.whl\n",
            "Installing collected packages: fuzzywuzzy\n",
            "Successfully installed fuzzywuzzy-0.18.0\n"
          ],
          "name": "stdout"
        },
        {
          "output_type": "stream",
          "text": [
            "/usr/local/lib/python3.6/dist-packages/fuzzywuzzy/fuzz.py:11: UserWarning: Using slow pure-python SequenceMatcher. Install python-Levenshtein to remove this warning\n",
            "  warnings.warn('Using slow pure-python SequenceMatcher. Install python-Levenshtein to remove this warning')\n"
          ],
          "name": "stderr"
        }
      ]
    },
    {
      "cell_type": "code",
      "metadata": {
        "id": "2H8hAf4O_Uk2"
      },
      "source": [
        "#Ler os arquivos\r\n",
        "cadastro = pd.read_csv('cadastro.csv')\r\n",
        "dados_medicos = pd.read_csv('dados_medicos.csv')"
      ],
      "execution_count": 3,
      "outputs": []
    },
    {
      "cell_type": "markdown",
      "metadata": {
        "id": "Djtr6rQhED2H"
      },
      "source": [
        "Para análise exploratória, vamos entender as bases de dados: seu tamanho, quais dados estão disponíveis, qual o formato deles, se estão completos ou não....."
      ]
    },
    {
      "cell_type": "code",
      "metadata": {
        "colab": {
          "base_uri": "https://localhost:8080/"
        },
        "id": "ddHcTUPP_ZVh",
        "outputId": "35eea623-47df-4524-93ac-7344d7cfd501"
      },
      "source": [
        "#Análise Exploratória\r\n",
        "print(cadastro.shape) #393 regitros\r\n",
        "print(dados_medicos.shape) #368 registros"
      ],
      "execution_count": 5,
      "outputs": [
        {
          "output_type": "stream",
          "text": [
            "(393, 7)\n",
            "(368, 6)\n"
          ],
          "name": "stdout"
        }
      ]
    },
    {
      "cell_type": "code",
      "metadata": {
        "colab": {
          "base_uri": "https://localhost:8080/"
        },
        "id": "74l_7anG_eQs",
        "outputId": "b408218e-2151-4727-c788-9ad0d640c22f"
      },
      "source": [
        "print(cadastro.columns) #'nome', 'data_nasc', 'cpf', 'mae', 'celular', 'email', 'telefone_fixo'\r\n",
        "print(dados_medicos.columns) #'nome', 'data_nasc', 'cpf', 'tipo_sanguineo', 'peso', 'altura'"
      ],
      "execution_count": 6,
      "outputs": [
        {
          "output_type": "stream",
          "text": [
            "Index(['nome', 'data_nasc', 'cpf', 'mae', 'celular', 'email', 'telefone_fixo'], dtype='object')\n",
            "Index(['nome', 'data_nasc', 'cpf', 'tipo_sanguineo', 'peso', 'altura'], dtype='object')\n"
          ],
          "name": "stdout"
        }
      ]
    },
    {
      "cell_type": "code",
      "metadata": {
        "colab": {
          "base_uri": "https://localhost:8080/"
        },
        "id": "6E5_DK9X_gU_",
        "outputId": "bc8b4528-fb44-4025-aa57-c0fcc74b7640"
      },
      "source": [
        "print(cadastro.iloc[0])"
      ],
      "execution_count": 19,
      "outputs": [
        {
          "output_type": "stream",
          "text": [
            "nome                                           Cauã Isaac Caldeira\n",
            "data_nasc                                      1945-03-02 00:00:00\n",
            "cpf                                                    35083528118\n",
            "mae                                         Vitória Kamilly Sueli \n",
            "celular                                                  989048340\n",
            "email            cauaisaaccaldeira__cauaisaaccaldeira@hardquali...\n",
            "telefone_fixo                                             28317237\n",
            "nome_array                                 [Cauã, Isaac, Caldeira]\n",
            "primeiro_nome                                                 Cauã\n",
            "sobrenome                                                 Caldeira\n",
            "nasc_ano                                                      1945\n",
            "nasc_mes                                                         3\n",
            "nasc_dia                                                         2\n",
            "cpf_0                                                            3\n",
            "Name: 0, dtype: object\n"
          ],
          "name": "stdout"
        }
      ]
    },
    {
      "cell_type": "code",
      "metadata": {
        "colab": {
          "base_uri": "https://localhost:8080/"
        },
        "id": "gi1jJhrYEY8l",
        "outputId": "3997f354-f747-4488-c501-12589f6509e7"
      },
      "source": [
        "print(dados_medicos.iloc[0])"
      ],
      "execution_count": 20,
      "outputs": [
        {
          "output_type": "stream",
          "text": [
            "nome                   Alice Liz Adriana Duarte\n",
            "data_nasc                   1975-10-22 00:00:00\n",
            "cpf                                 58548099313\n",
            "tipo_sanguineo                               O-\n",
            "peso                                         89\n",
            "altura                                     1.57\n",
            "nome_array        [Alice, Liz, Adriana, Duarte]\n",
            "primeiro_nome                             Alice\n",
            "sobrenome                                Duarte\n",
            "nasc_ano                                   1975\n",
            "nasc_mes                                     10\n",
            "nasc_dia                                     22\n",
            "cpf_0                                         5\n",
            "Name: 0, dtype: object\n"
          ],
          "name": "stdout"
        }
      ]
    },
    {
      "cell_type": "code",
      "metadata": {
        "colab": {
          "base_uri": "https://localhost:8080/"
        },
        "id": "5AZzd4Zp_jLy",
        "outputId": "0eb09b10-c004-4b10-f356-b5c9a2888a07"
      },
      "source": [
        "print(cadastro.nome)"
      ],
      "execution_count": 21,
      "outputs": [
        {
          "output_type": "stream",
          "text": [
            "0                      Cauã Isaac Caldeira\n",
            "1              Lúcia Carolina Luzia Almada\n",
            "2              Vicente Marcos Edson Castro\n",
            "3              Yago Pedro Henrique da Cruz\n",
            "4          Valentina Stefany Alana Cardoso\n",
            "                      ...                 \n",
            "388    Arthur Luís Carlos Eduardo da Cunha\n",
            "389                  Rayssa Simone Pereira\n",
            "390                   Ester Emily Nogueira\n",
            "391          Rodrigo Marcos Thomas Martins\n",
            "392            Luna Esther Alessandra Dias\n",
            "Name: nome, Length: 393, dtype: object\n"
          ],
          "name": "stdout"
        }
      ]
    },
    {
      "cell_type": "code",
      "metadata": {
        "colab": {
          "base_uri": "https://localhost:8080/"
        },
        "id": "JokFPzjKEcQU",
        "outputId": "68dd36fa-f359-48ad-b3f2-28cae3f3feee"
      },
      "source": [
        "print(dados_medicos.nome)"
      ],
      "execution_count": 22,
      "outputs": [
        {
          "output_type": "stream",
          "text": [
            "0         Alice Liz Adriana Duarte\n",
            "1                  Kaue César Lima\n",
            "2      Otávio Felipe Henry Almeida\n",
            "3         Rafaela Francisca Mendes\n",
            "4       Bryan Joaquim Roberto Rosa\n",
            "                  ...             \n",
            "363     Jaqueline Vera Maya Moraes\n",
            "364       Malu Emily Isabelly Lima\n",
            "365        Rayssa D Priscila Alves\n",
            "366           Emilly Sarah Drumond\n",
            "367      Jorge Nelson Ricardo Mota\n",
            "Name: nome, Length: 368, dtype: object\n"
          ],
          "name": "stdout"
        }
      ]
    },
    {
      "cell_type": "code",
      "metadata": {
        "colab": {
          "base_uri": "https://localhost:8080/"
        },
        "id": "CvvnTY6v_lHb",
        "outputId": "eb69099f-4dcc-4e44-f612-dd517f26c2a1"
      },
      "source": [
        "print(cadastro.dtypes)"
      ],
      "execution_count": 23,
      "outputs": [
        {
          "output_type": "stream",
          "text": [
            "nome                     object\n",
            "data_nasc        datetime64[ns]\n",
            "cpf                      object\n",
            "mae                      object\n",
            "celular                   int64\n",
            "email                    object\n",
            "telefone_fixo             int64\n",
            "nome_array               object\n",
            "primeiro_nome            object\n",
            "sobrenome                object\n",
            "nasc_ano                  int64\n",
            "nasc_mes                  int64\n",
            "nasc_dia                  int64\n",
            "cpf_0                    object\n",
            "dtype: object\n"
          ],
          "name": "stdout"
        }
      ]
    },
    {
      "cell_type": "code",
      "metadata": {
        "colab": {
          "base_uri": "https://localhost:8080/"
        },
        "id": "5gnesGZ-EfWo",
        "outputId": "b1ed3d8e-35bd-475d-cb37-aa277c2d9e4e"
      },
      "source": [
        "print(dados_medicos.dtypes)"
      ],
      "execution_count": 24,
      "outputs": [
        {
          "output_type": "stream",
          "text": [
            "nome                      object\n",
            "data_nasc         datetime64[ns]\n",
            "cpf                       object\n",
            "tipo_sanguineo            object\n",
            "peso                       int64\n",
            "altura                   float64\n",
            "nome_array                object\n",
            "primeiro_nome             object\n",
            "sobrenome                 object\n",
            "nasc_ano                   int64\n",
            "nasc_mes                   int64\n",
            "nasc_dia                   int64\n",
            "cpf_0                     object\n",
            "dtype: object\n"
          ],
          "name": "stdout"
        }
      ]
    },
    {
      "cell_type": "markdown",
      "metadata": {
        "id": "FkazZ-uu_nbJ"
      },
      "source": [
        "Temos no máximo 368 matches possíveis\r\n",
        "E temos 144.624 possíveis combinações (393 x 368)"
      ]
    },
    {
      "cell_type": "markdown",
      "metadata": {
        "id": "zMwyM1L_EndS"
      },
      "source": [
        "Exercício 2: Pré-processamento\r\n",
        "*   Quais tarefas vocês listam como necessárias?\r\n",
        " *  Padronização de campos\r\n",
        " *  Substituir valores\r\n",
        " *  Retirar caracteres especiais\r\n",
        "*   Listar e executar!"
      ]
    },
    {
      "cell_type": "code",
      "metadata": {
        "id": "O41HSbwA_rRJ"
      },
      "source": [
        "#Pré-processamento\r\n",
        "#Tamanhos dos campos\r\n",
        "#Nome: Quebrar em nome e sobrenomes??\r\n",
        "cadastro['nome_array'] = cadastro.nome.str.split()\r\n",
        "cadastro['primeiro_nome'] = cadastro.nome_array.str[0]\r\n",
        "cadastro['sobrenome'] = cadastro.nome_array.str[-1]\r\n",
        "\r\n",
        "dados_medicos['nome_array'] = dados_medicos.nome.str.split()\r\n",
        "dados_medicos['primeiro_nome'] = dados_medicos.nome_array.str[0]\r\n",
        "dados_medicos['sobrenome'] = dados_medicos.nome_array.str[-1]"
      ],
      "execution_count": 10,
      "outputs": []
    },
    {
      "cell_type": "code",
      "metadata": {
        "id": "pPXpJgLa_wYl"
      },
      "source": [
        "#CPF: Tem delimitador? está como tipo número ou tipo string? Tamanho 11 caracteres?\r\n",
        "cadastro.cpf = cadastro.cpf.astype(str).apply(lambda x: x.zfill(11))\r\n",
        "dados_medicos.cpf = dados_medicos.cpf.astype(str).apply(lambda x: x.zfill(11))"
      ],
      "execution_count": 11,
      "outputs": []
    },
    {
      "cell_type": "code",
      "metadata": {
        "id": "yAD_IvSs_yyA"
      },
      "source": [
        "#Data Nascimento: Está como data?\r\n",
        "cadastro.data_nasc = pd.to_datetime(cadastro.data_nasc, format = '%d-%m-%Y')\r\n",
        "dados_medicos.data_nasc = pd.to_datetime(dados_medicos.data_nasc.str.replace('/','-'), format = '%d-%m-%Y')"
      ],
      "execution_count": 12,
      "outputs": []
    },
    {
      "cell_type": "code",
      "metadata": {
        "id": "p4Dkhc1H_2UI"
      },
      "source": [
        "cadastro['nasc_ano'] = cadastro.data_nasc.apply(lambda x : x.year)\r\n",
        "cadastro['nasc_mes'] = cadastro.data_nasc.apply(lambda x : x.month)\r\n",
        "cadastro['nasc_dia'] = cadastro.data_nasc.apply(lambda x : x.day)\r\n",
        "\r\n",
        "dados_medicos['nasc_ano'] = dados_medicos.data_nasc.apply(lambda x : x.year)\r\n",
        "dados_medicos['nasc_mes'] = dados_medicos.data_nasc.apply(lambda x : x.month)\r\n",
        "dados_medicos['nasc_dia'] = dados_medicos.data_nasc.apply(lambda x : x.day)"
      ],
      "execution_count": 13,
      "outputs": []
    },
    {
      "cell_type": "code",
      "metadata": {
        "id": "kAIwajYq_5iu"
      },
      "source": [
        "#Altura como número?\r\n",
        "dados_medicos.altura = dados_medicos.altura.str.replace(',','.').astype(float)\r\n",
        "\r\n",
        "#Peso como número? OK"
      ],
      "execution_count": 14,
      "outputs": []
    },
    {
      "cell_type": "markdown",
      "metadata": {
        "id": "_5RrDraGFFdI"
      },
      "source": [
        "Exercício 3: Indexação\r\n",
        "*    Listar possíveis blocking Keys\r\n",
        "*    Definir uma a ser utilizada\r\n",
        "*    Criar os blocos\r\n",
        "*    Listar os possíveis matches em cada bloco"
      ]
    },
    {
      "cell_type": "code",
      "metadata": {
        "colab": {
          "base_uri": "https://localhost:8080/"
        },
        "id": "bVJr-HC2_7Fq",
        "outputId": "aea15a98-6ec3-41b3-b46e-6f4227235af3"
      },
      "source": [
        "#Indexação\r\n",
        "\r\n",
        "#mês de nascimento\r\n",
        "cadastro.groupby('nasc_mes').size()\r\n",
        "dados_medicos.groupby('nasc_mes').size() #Muitas pessoas com nascimento em 1900\r\n",
        "dados_medicos[dados_medicos['nasc_mes'] == 1]['data_nasc'].sort_values(ascending = False)\r\n",
        "\r\n",
        "blocos = pd.concat([cadastro.groupby('nasc_mes').size(), dados_medicos.groupby('nasc_mes').size()], axis = 1)\r\n",
        "blocos.columns = ['cadastro', 'dados_medicos']\r\n",
        "print(sum(blocos.cadastro * blocos.dados_medicos)) #12.254 ao invés de 144.624\r\n",
        "\r\n",
        "dados_medicos[dados_medicos['data_nasc'] == '1900-01-01']\r\n",
        "\r\n",
        "cadastro['cpf_0'] = cadastro.cpf.str[0]\r\n",
        "dados_medicos['cpf_0'] = dados_medicos.cpf.str[0]\r\n",
        "cadastro.groupby('cpf_0').size()\r\n",
        "dados_medicos.groupby('cpf_0').size()\r\n",
        "\r\n",
        "blocos_cpf = pd.concat([cadastro.groupby('cpf_0').size(), dados_medicos.groupby('cpf_0').size()], axis = 1)\r\n",
        "blocos_cpf.columns = ['cadastro', 'dados_medicos']\r\n",
        "print(sum(blocos_cpf.cadastro * blocos_cpf.dados_medicos)) #14.862 ao invés de 144.624\r\n",
        "\r\n",
        "cadastro_blocos = {}\r\n",
        "dados_medicos_blocos = {}\r\n",
        "\r\n",
        "for i in range(10):\r\n",
        "    cadastro_blocos[i] = cadastro[cadastro['cpf_0'].astype(int) == i]\r\n",
        "    dados_medicos_blocos[i] = dados_medicos[dados_medicos['cpf_0'].astype(int) == i]"
      ],
      "execution_count": 15,
      "outputs": [
        {
          "output_type": "stream",
          "text": [
            "12419\n",
            "14726\n"
          ],
          "name": "stdout"
        }
      ]
    },
    {
      "cell_type": "markdown",
      "metadata": {
        "id": "B1CVKuAHFrAB"
      },
      "source": [
        "Exercício 4: Comparação par a par\r\n",
        "*    Desenvolver um algoritmo de comparação de cada match potencial do exercício anterior\r\n",
        "*    Definir uma nota de similaridade para cada comparação\r\n",
        " *   Para cada parâmetro"
      ]
    },
    {
      "cell_type": "code",
      "metadata": {
        "id": "9FLFjKbu__qS"
      },
      "source": [
        "#Comparação par a par\r\n",
        "def comparaRegistros(registro1, registro2):\r\n",
        "    #Dictionary com similaridades\r\n",
        "    sim = {}\r\n",
        "    #Compara o CPF - exatamente igual\r\n",
        "    if registro1['cpf'] == registro2['cpf']:\r\n",
        "        sim['cpf'] = 1\r\n",
        "    else:\r\n",
        "        sim['cpf'] = 0\r\n",
        "    \r\n",
        "    #Compara Data de Nascimento - exatamente igual\r\n",
        "    if registro1['data_nasc'] == registro2['data_nasc']:\r\n",
        "        sim['data_nasc'] = 1\r\n",
        "    elif (registro1['nasc_ano'] == registro2['nasc_ano']) and (registro1['nasc_mes'] == registro2['nasc_dia']) and (registro1['nasc_dia'] == registro2['nasc_mes']):\r\n",
        "        #Mês e dia trocado!!\r\n",
        "        sim['data_nasc'] = 1\r\n",
        "    else:\r\n",
        "        sim['data_nasc'] = 0\r\n",
        "\r\n",
        "    #Compara Nomes - similaridade de strings:\r\n",
        "    if registro1['nome'] == registro2['nome']:\r\n",
        "        sim['nome'] = 1\r\n",
        "    else:\r\n",
        "        sim['nome'] = fuzz.token_sort_ratio(registro1['nome'], registro2['nome'])/100\r\n",
        "        \r\n",
        "    return sim\r\n",
        "\r\n",
        "    #Outras possibilidades:\r\n",
        "        #Usar nome da mãe na comparação\r\n",
        "        #Comparar nome e sobrenome\r\n",
        "        #Usar outro algoritmo de similaridade"
      ],
      "execution_count": 16,
      "outputs": []
    },
    {
      "cell_type": "code",
      "metadata": {
        "colab": {
          "base_uri": "https://localhost:8080/"
        },
        "id": "oSPVh633ACfi",
        "outputId": "d613d687-daa3-483e-875c-5331f2fd2635"
      },
      "source": [
        "pares = pd.DataFrame(columns = ['paciente', 'registro', 'similaridade'])\r\n",
        "\r\n",
        "for i in range(0,10):\r\n",
        "    print('CPF começando com {}'.format(i))\r\n",
        "    #Varrer todos os dados_medicos, comparando com os registros em cadastro:\r\n",
        "    for k, paciente in dados_medicos_blocos[i].iterrows():\r\n",
        "        for j, registro in cadastro_blocos[i].iterrows():\r\n",
        "            #print('Dados médicos: {}, {}, {}'.format(paciente.nome, paciente.cpf, paciente.data_nasc))\r\n",
        "            #print('Cadastro: {}, {}, {}'.format(registro.nome, registro.cpf, registro.data_nasc))\r\n",
        "            sim = comparaRegistros(paciente, registro)\r\n",
        "            #print('Similaridade: {}, {}, {}'.format(sim['nome'], sim['cpf'], sim['data_nasc']))\r\n",
        "            par = {'paciente' : paciente, 'registro' : registro, 'similaridade' : sim}\r\n",
        "            pares = pares.append(par, ignore_index = True)\r\n",
        "\r\n",
        "pares['simSum'] = 0\r\n",
        "\r\n",
        "matches = pd.DataFrame()\r\n",
        "matches_registros = pd.DataFrame()\r\n",
        "potenciais = pd.DataFrame()\r\n",
        "potenciais_registros = pd.DataFrame()\r\n",
        "non_matches = pd.DataFrame()\r\n",
        "non_matches_registros = pd.DataFrame()"
      ],
      "execution_count": 17,
      "outputs": [
        {
          "output_type": "stream",
          "text": [
            "CPF começando com 0\n",
            "CPF começando com 1\n",
            "CPF começando com 2\n",
            "CPF começando com 3\n",
            "CPF começando com 4\n",
            "CPF começando com 5\n",
            "CPF começando com 6\n",
            "CPF começando com 7\n",
            "CPF começando com 8\n",
            "CPF começando com 9\n"
          ],
          "name": "stdout"
        }
      ]
    },
    {
      "cell_type": "markdown",
      "metadata": {
        "id": "llXsKDA5GBfh"
      },
      "source": [
        "Exercício 5: Classificação\r\n",
        "*    Classificar cada par, baseado num threshold\r\n",
        "*    Definir um peso para cada parâmetro"
      ]
    },
    {
      "cell_type": "code",
      "metadata": {
        "id": "URIKojDZAWVv"
      },
      "source": [
        "#Classificação\r\n",
        "for idx, par in pares.iterrows():\r\n",
        "    sim = par['similaridade']\r\n",
        "    simSum = sim['cpf'] + sim['nome'] + sim['data_nasc']\r\n",
        "    #Possibilidades - dar peso diferentes aos critérios\r\n",
        "    pares.loc[idx, 'simSum'] = simSum\r\n",
        "    if simSum == 3:\r\n",
        "        matches = matches.append(pares.loc[idx])\r\n",
        "        matches_registros = matches_registros.append(pares.loc[idx, 'registro'])\r\n",
        "    elif simSum >=2:\r\n",
        "        potenciais = potenciais.append(pares.loc[idx])\r\n",
        "        potenciais_registros = potenciais_registros.append(pares.loc[idx, 'registro'])\r\n",
        "    else:\r\n",
        "        non_matches = non_matches.append(pares.loc[idx])\r\n",
        "        non_matches_registros = non_matches_registros.append(pares.loc[idx, 'registro'])\r\n",
        "\r\n",
        "is_missing = dados_medicos.merge(matches_registros, how = 'left', \r\n",
        "                on = ['nome', 'cpf', 'data_nasc'], indicator = True)\r\n",
        "is_missing = is_missing[is_missing['_merge'] =='left_only'][['nome', 'data_nasc', 'cpf']]"
      ],
      "execution_count": 18,
      "outputs": []
    },
    {
      "cell_type": "markdown",
      "metadata": {
        "id": "jQNgFY6-GO7o"
      },
      "source": [
        "Exercício 6: Avaliação\r\n",
        "*     Buscar uma amostra das classificações (de 10 a 20 registros)\r\n",
        "*     Classificar cada uma em TP, TN, FP, FN\r\n",
        "*     Calcular acurácia, precisão e recall"
      ]
    },
    {
      "cell_type": "code",
      "metadata": {
        "colab": {
          "base_uri": "https://localhost:8080/",
          "height": 973
        },
        "id": "nTtC1w8uCWfj",
        "outputId": "ce87135e-fb00-4475-bf24-f86b8f843c2d"
      },
      "source": [
        "#Avaliação\r\n",
        "%load_ext google.colab.data_table\r\n",
        "potenciais[potenciais['simSum'] == 2].sample(10)\r\n",
        "#True Positive: 10\r\n",
        "#False Positive: 0"
      ],
      "execution_count": 32,
      "outputs": [
        {
          "output_type": "stream",
          "text": [
            "The google.colab.data_table extension is already loaded. To reload it, use:\n",
            "  %reload_ext google.colab.data_table\n"
          ],
          "name": "stdout"
        },
        {
          "output_type": "execute_result",
          "data": {
            "application/vnd.google.colaboratory.module+javascript": "\n      import \"https://ssl.gstatic.com/colaboratory/data_table/a6224c040fa35dcf/data_table.js\";\n\n      window.createDataTable({\n        data: [[{\n            'v': 10701,\n            'f': \"10701\",\n        },\n\"nome                  Calebe Lucas Drumond\\ndata_nasc              1900-01-01 00:00:00\\ncpf                            65444491648\\ntipo_sanguineo                          B-\\npeso                                    70\\naltura                                1.73\\nnome_array        [Calebe, Lucas, Drumond]\\nprimeiro_nome                       Calebe\\nsobrenome                          Drumond\\nnasc_ano                              1900\\nnasc_mes                                 1\\nnasc_dia                                 1\\ncpf_0                                    6\\nName: 114, dtype: object\",\n\"nome                                Calebe Lucas Drumond\\ndata_nasc                            1946-04-21 00:00:00\\ncpf                                          65444491648\\nmae                                Isadora Emilly Sueli \\ncelular                                        985200646\\nemail            calebelucasdrumond-97@valedesign.com.br\\ntelefone_fixo                                   35824410\\nnome_array                      [Calebe, Lucas, Drumond]\\nprimeiro_nome                                     Calebe\\nsobrenome                                        Drumond\\nnasc_ano                                            1946\\nnasc_mes                                               4\\nnasc_dia                                              21\\ncpf_0                                                  6\\nName: 182, dtype: object\",\n{\n            'v': 2.0,\n            'f': \"2.0\",\n        },\n\"{'cpf': 1, 'data_nasc': 0, 'nome': 1}\"],\n [{\n            'v': 7638,\n            'f': \"7638\",\n        },\n\"nome                   Arthur Paulo Enzo Duarte\\ndata_nasc                   1900-01-01 00:00:00\\ncpf                                 41834442508\\ntipo_sanguineo                              AB-\\npeso                                         95\\naltura                                     1.61\\nnome_array        [Arthur, Paulo, Enzo, Duarte]\\nprimeiro_nome                            Arthur\\nsobrenome                                Duarte\\nnasc_ano                                   1900\\nnasc_mes                                      1\\nnasc_dia                                      1\\ncpf_0                                         4\\nName: 229, dtype: object\",\n\"nome                                  Arthur Paulo Enzo Duarte\\ndata_nasc                                  1963-05-13 00:00:00\\ncpf                                                41834442508\\nmae                                      Marli Pietra Vanessa \\ncelular                                              987443014\\nemail            arthurpauloenzoduarte_@grupoarteoficio.com.br\\ntelefone_fixo                                         36893969\\nnome_array                       [Arthur, Paulo, Enzo, Duarte]\\nprimeiro_nome                                           Arthur\\nsobrenome                                               Duarte\\nnasc_ano                                                  1963\\nnasc_mes                                                     5\\nnasc_dia                                                    13\\ncpf_0                                                        4\\nName: 190, dtype: object\",\n{\n            'v': 2.0,\n            'f': \"2.0\",\n        },\n\"{'cpf': 1, 'data_nasc': 0, 'nome': 1}\"],\n [{\n            'v': 3884,\n            'f': \"3884\",\n        },\n\"nome                  Nicole Alana Almada\\ndata_nasc             1900-01-01 00:00:00\\ncpf                           12693080410\\ntipo_sanguineo                        AB-\\npeso                                   49\\naltura                               1.75\\nnome_array        [Nicole, Alana, Almada]\\nprimeiro_nome                      Nicole\\nsobrenome                          Almada\\nnasc_ano                             1900\\nnasc_mes                                1\\nnasc_dia                                1\\ncpf_0                                   1\\nName: 222, dtype: object\",\n\"nome                                 Nicole Alana Almada\\ndata_nasc                            1968-09-09 00:00:00\\ncpf                                          12693080410\\nmae                                     Benedita Emilly \\ncelular                                        998820097\\nemail            nicolealanaalmada-80@facilitycom.com.br\\ntelefone_fixo                                   26999031\\nnome_array                       [Nicole, Alana, Almada]\\nprimeiro_nome                                     Nicole\\nsobrenome                                         Almada\\nnasc_ano                                            1968\\nnasc_mes                                               9\\nnasc_dia                                               9\\ncpf_0                                                  1\\nName: 28, dtype: object\",\n{\n            'v': 2.0,\n            'f': \"2.0\",\n        },\n\"{'cpf': 1, 'data_nasc': 0, 'nome': 1}\"],\n [{\n            'v': 6085,\n            'f': \"6085\",\n        },\n\"nome                  Al\\u00edcia B\\u00e1rbara Cavalcanti\\ndata_nasc                   1900-01-01 00:00:00\\ncpf                                 31276561148\\ntipo_sanguineo                               A-\\npeso                                         55\\naltura                                     1.58\\nnome_array        [Al\\u00edcia, B\\u00e1rbara, Cavalcanti]\\nprimeiro_nome                            Al\\u00edcia\\nsobrenome                            Cavalcanti\\nnasc_ano                                   1900\\nnasc_mes                                      1\\nnasc_dia                                      1\\ncpf_0                                         3\\nName: 210, dtype: object\",\n\"nome                           Al\\u00edcia B\\u00e1rbara Cavalcanti\\ndata_nasc                            1992-05-16 00:00:00\\ncpf                                          31276561148\\nmae                                 Emily Fl\\u00e1via Eliane \\ncelular                                        998929042\\nemail            aliciabarbaracavalcanti_@stetnet.com.br\\ntelefone_fixo                                   26779228\\nnome_array                 [Al\\u00edcia, B\\u00e1rbara, Cavalcanti]\\nprimeiro_nome                                     Al\\u00edcia\\nsobrenome                                     Cavalcanti\\nnasc_ano                                            1992\\nnasc_mes                                               5\\nnasc_dia                                              16\\ncpf_0                                                  3\\nName: 305, dtype: object\",\n{\n            'v': 2.0,\n            'f': \"2.0\",\n        },\n\"{'cpf': 1, 'data_nasc': 0, 'nome': 1}\"],\n [{\n            'v': 14281,\n            'f': \"14281\",\n        },\n\"nome                  Ruan Theo Duarte\\ndata_nasc          1900-01-01 00:00:00\\ncpf                        91534140980\\ntipo_sanguineo                      O-\\npeso                                61\\naltura                            1.77\\nnome_array        [Ruan, Theo, Duarte]\\nprimeiro_nome                     Ruan\\nsobrenome                       Duarte\\nnasc_ano                          1900\\nnasc_mes                             1\\nnasc_dia                             1\\ncpf_0                                9\\nName: 74, dtype: object\",\n\"nome                      Ruan Theo Duarte\\ndata_nasc              1943-05-27 00:00:00\\ncpf                            91534140980\\nmae                  Amanda Cec\\u00edlia Clara \\ncelular                          993753990\\nemail            ruantheoduarte-99@slb.com\\ntelefone_fixo                     37011747\\nnome_array            [Ruan, Theo, Duarte]\\nprimeiro_nome                         Ruan\\nsobrenome                           Duarte\\nnasc_ano                              1943\\nnasc_mes                                 5\\nnasc_dia                                27\\ncpf_0                                    9\\nName: 231, dtype: object\",\n{\n            'v': 2.0,\n            'f': \"2.0\",\n        },\n\"{'cpf': 1, 'data_nasc': 0, 'nome': 1}\"],\n [{\n            'v': 5237,\n            'f': \"5237\",\n        },\n\"nome                  Sarah Gabrielly Arag\\u00e3o\\ndata_nasc                1900-10-13 00:00:00\\ncpf                              20878435549\\ntipo_sanguineo                            B+\\npeso                                      48\\naltura                                  1.56\\nnome_array        [Sarah, Gabrielly, Arag\\u00e3o]\\nprimeiro_nome                          Sarah\\nsobrenome                             Arag\\u00e3o\\nnasc_ano                                1900\\nnasc_mes                                  10\\nnasc_dia                                  13\\ncpf_0                                      2\\nName: 354, dtype: object\",\n\"nome                          Sarah Gabrielly Arag\\u00e3o\\ndata_nasc                        1987-10-13 00:00:00\\ncpf                                      20878435549\\nmae                         Manuela Rafaela Isadora \\ncelular                                    995086006\\nemail            ssarahgabriellyaragao@kframe.com.br\\ntelefone_fixo                               39284020\\nnome_array                [Sarah, Gabrielly, Arag\\u00e3o]\\nprimeiro_nome                                  Sarah\\nsobrenome                                     Arag\\u00e3o\\nnasc_ano                                        1987\\nnasc_mes                                          10\\nnasc_dia                                          13\\ncpf_0                                              2\\nName: 107, dtype: object\",\n{\n            'v': 2.0,\n            'f': \"2.0\",\n        },\n\"{'cpf': 1, 'data_nasc': 0, 'nome': 1}\"],\n [{\n            'v': 13090,\n            'f': \"13090\",\n        },\n\"nome                  Davi Elias Nascimento\\ndata_nasc               1900-01-01 00:00:00\\ncpf                             79847927804\\ntipo_sanguineo                           A-\\npeso                                     93\\naltura                                 1.85\\nnome_array        [Davi, Elias, Nascimento]\\nprimeiro_nome                          Davi\\nsobrenome                        Nascimento\\nnasc_ano                               1900\\nnasc_mes                                  1\\nnasc_dia                                  1\\ncpf_0                                     7\\nName: 333, dtype: object\",\n\"nome                        Davi Elias Nascimento\\ndata_nasc                     1940-09-19 00:00:00\\ncpf                                   79847927804\\nmae                           Laura M\\u00e1rcia Emily \\ncelular                                 993392668\\nemail            ddavieliasnascimento@marcati.com\\ntelefone_fixo                            35915313\\nnome_array              [Davi, Elias, Nascimento]\\nprimeiro_nome                                Davi\\nsobrenome                              Nascimento\\nnasc_ano                                     1940\\nnasc_mes                                        9\\nnasc_dia                                       19\\ncpf_0                                           7\\nName: 156, dtype: object\",\n{\n            'v': 2.0,\n            'f': \"2.0\",\n        },\n\"{'cpf': 1, 'data_nasc': 0, 'nome': 1}\"],\n [{\n            'v': 4523,\n            'f': \"4523\",\n        },\n\"nome                  L\\u00facia Stella Farias\\ndata_nasc             1900-01-01 00:00:00\\ncpf                           23704564427\\ntipo_sanguineo                        AB+\\npeso                                   54\\naltura                               1.51\\nnome_array        [L\\u00facia, Stella, Farias]\\nprimeiro_nome                       L\\u00facia\\nsobrenome                          Farias\\nnasc_ano                             1900\\nnasc_mes                                1\\nnasc_dia                                1\\ncpf_0                                   2\\nName: 112, dtype: object\",\n\"nome                                 L\\u00facia Stella Farias\\ndata_nasc                            1991-08-17 00:00:00\\ncpf                                          23704564427\\nmae                                      Daniela Aurora \\ncelular                                        983204224\\nemail            lluciastellafarias@nogueiramoura.com.br\\ntelefone_fixo                                   37790050\\nnome_array                       [L\\u00facia, Stella, Farias]\\nprimeiro_nome                                      L\\u00facia\\nsobrenome                                         Farias\\nnasc_ano                                            1991\\nnasc_mes                                               8\\nnasc_dia                                              17\\ncpf_0                                                  2\\nName: 177, dtype: object\",\n{\n            'v': 2.0,\n            'f': \"2.0\",\n        },\n\"{'cpf': 1, 'data_nasc': 0, 'nome': 1}\"],\n [{\n            'v': 11637,\n            'f': \"11637\",\n        },\n\"nome                   Priscila Julia M\\u00e1rcia Baptista\\ndata_nasc                         1900-01-01 00:00:00\\ncpf                                       72159801380\\ntipo_sanguineo                                    AB+\\npeso                                               87\\naltura                                           1.76\\nnome_array        [Priscila, Julia, M\\u00e1rcia, Baptista]\\nprimeiro_nome                                Priscila\\nsobrenome                                    Baptista\\nnasc_ano                                         1900\\nnasc_mes                                            1\\nnasc_dia                                            1\\ncpf_0                                               7\\nName: 83, dtype: object\",\n\"nome                                Priscila Julia M\\u00e1rcia Baptista\\ndata_nasc                                      2001-09-17 00:00:00\\ncpf                                                    72159801380\\nmae                                        Teresinha Renata T\\u00e2nia \\ncelular                                                  985542615\\nemail            priscilajuliamarciabaptista_@validtecnologia.c...\\ntelefone_fixo                                             27031458\\nnome_array                     [Priscila, Julia, M\\u00e1rcia, Baptista]\\nprimeiro_nome                                             Priscila\\nsobrenome                                                 Baptista\\nnasc_ano                                                      2001\\nnasc_mes                                                         9\\nnasc_dia                                                        17\\ncpf_0                                                            7\\nName: 26, dtype: object\",\n{\n            'v': 2.0,\n            'f': \"2.0\",\n        },\n\"{'cpf': 1, 'data_nasc': 0, 'nome': 1}\"],\n [{\n            'v': 5551,\n            'f': \"5551\",\n        },\n\"nome                   Lucca Severino Martin Rezende\\ndata_nasc                        1900-01-01 00:00:00\\ncpf                                      32526936586\\ntipo_sanguineo                                    O-\\npeso                                             100\\naltura                                          1.89\\nnome_array        [Lucca, Severino, Martin, Rezende]\\nprimeiro_nome                                  Lucca\\nsobrenome                                    Rezende\\nnasc_ano                                        1900\\nnasc_mes                                           1\\nnasc_dia                                           1\\ncpf_0                                              3\\nName: 54, dtype: object\",\n\"nome                                 Lucca Severino Martin Rezende\\ndata_nasc                                      1971-04-10 00:00:00\\ncpf                                                    32526936586\\nmae                                           Aline Emily Let\\u00edcia \\ncelular                                                  989264251\\nemail            luccaseverinomartinrezende__luccaseverinomarti...\\ntelefone_fixo                                             39754427\\nnome_array                      [Lucca, Severino, Martin, Rezende]\\nprimeiro_nome                                                Lucca\\nsobrenome                                                  Rezende\\nnasc_ano                                                      1971\\nnasc_mes                                                         4\\nnasc_dia                                                        10\\ncpf_0                                                            3\\nName: 252, dtype: object\",\n{\n            'v': 2.0,\n            'f': \"2.0\",\n        },\n\"{'cpf': 1, 'data_nasc': 0, 'nome': 1}\"]],\n        columns: [[\"number\", \"index\"], [\"string\", \"paciente\"], [\"string\", \"registro\"], [\"number\", \"simSum\"], [\"string\", \"similaridade\"]],\n        columnOptions: [{\"width\": \"1px\", \"className\": \"index_column\"}],\n        rowsPerPage: 25,\n        helpUrl: \"https://colab.research.google.com/notebooks/data_table.ipynb\",\n        suppressOutputScrolling: true,\n        minimumWidth: undefined,\n      });\n    ",
            "text/html": [
              "<div>\n",
              "<style scoped>\n",
              "    .dataframe tbody tr th:only-of-type {\n",
              "        vertical-align: middle;\n",
              "    }\n",
              "\n",
              "    .dataframe tbody tr th {\n",
              "        vertical-align: top;\n",
              "    }\n",
              "\n",
              "    .dataframe thead th {\n",
              "        text-align: right;\n",
              "    }\n",
              "</style>\n",
              "<table border=\"1\" class=\"dataframe\">\n",
              "  <thead>\n",
              "    <tr style=\"text-align: right;\">\n",
              "      <th></th>\n",
              "      <th>paciente</th>\n",
              "      <th>registro</th>\n",
              "      <th>simSum</th>\n",
              "      <th>similaridade</th>\n",
              "    </tr>\n",
              "  </thead>\n",
              "  <tbody>\n",
              "    <tr>\n",
              "      <th>10701</th>\n",
              "      <td>nome                  Calebe Lucas Drumond\n",
              "dat...</td>\n",
              "      <td>nome                                Calebe Luc...</td>\n",
              "      <td>2.0</td>\n",
              "      <td>{'cpf': 1, 'data_nasc': 0, 'nome': 1}</td>\n",
              "    </tr>\n",
              "    <tr>\n",
              "      <th>7638</th>\n",
              "      <td>nome                   Arthur Paulo Enzo Duart...</td>\n",
              "      <td>nome                                  Arthur P...</td>\n",
              "      <td>2.0</td>\n",
              "      <td>{'cpf': 1, 'data_nasc': 0, 'nome': 1}</td>\n",
              "    </tr>\n",
              "    <tr>\n",
              "      <th>3884</th>\n",
              "      <td>nome                  Nicole Alana Almada\n",
              "data...</td>\n",
              "      <td>nome                                 Nicole Al...</td>\n",
              "      <td>2.0</td>\n",
              "      <td>{'cpf': 1, 'data_nasc': 0, 'nome': 1}</td>\n",
              "    </tr>\n",
              "    <tr>\n",
              "      <th>6085</th>\n",
              "      <td>nome                  Alícia Bárbara Cavalcant...</td>\n",
              "      <td>nome                           Alícia Bárbara ...</td>\n",
              "      <td>2.0</td>\n",
              "      <td>{'cpf': 1, 'data_nasc': 0, 'nome': 1}</td>\n",
              "    </tr>\n",
              "    <tr>\n",
              "      <th>14281</th>\n",
              "      <td>nome                  Ruan Theo Duarte\n",
              "data_na...</td>\n",
              "      <td>nome                      Ruan Theo Duarte\n",
              "dat...</td>\n",
              "      <td>2.0</td>\n",
              "      <td>{'cpf': 1, 'data_nasc': 0, 'nome': 1}</td>\n",
              "    </tr>\n",
              "    <tr>\n",
              "      <th>5237</th>\n",
              "      <td>nome                  Sarah Gabrielly Aragão\n",
              "d...</td>\n",
              "      <td>nome                          Sarah Gabrielly ...</td>\n",
              "      <td>2.0</td>\n",
              "      <td>{'cpf': 1, 'data_nasc': 0, 'nome': 1}</td>\n",
              "    </tr>\n",
              "    <tr>\n",
              "      <th>13090</th>\n",
              "      <td>nome                  Davi Elias Nascimento\n",
              "da...</td>\n",
              "      <td>nome                        Davi Elias Nascime...</td>\n",
              "      <td>2.0</td>\n",
              "      <td>{'cpf': 1, 'data_nasc': 0, 'nome': 1}</td>\n",
              "    </tr>\n",
              "    <tr>\n",
              "      <th>4523</th>\n",
              "      <td>nome                  Lúcia Stella Farias\n",
              "data...</td>\n",
              "      <td>nome                                 Lúcia Ste...</td>\n",
              "      <td>2.0</td>\n",
              "      <td>{'cpf': 1, 'data_nasc': 0, 'nome': 1}</td>\n",
              "    </tr>\n",
              "    <tr>\n",
              "      <th>11637</th>\n",
              "      <td>nome                   Priscila Julia Márcia B...</td>\n",
              "      <td>nome                                Priscila J...</td>\n",
              "      <td>2.0</td>\n",
              "      <td>{'cpf': 1, 'data_nasc': 0, 'nome': 1}</td>\n",
              "    </tr>\n",
              "    <tr>\n",
              "      <th>5551</th>\n",
              "      <td>nome                   Lucca Severino Martin R...</td>\n",
              "      <td>nome                                 Lucca Sev...</td>\n",
              "      <td>2.0</td>\n",
              "      <td>{'cpf': 1, 'data_nasc': 0, 'nome': 1}</td>\n",
              "    </tr>\n",
              "  </tbody>\n",
              "</table>\n",
              "</div>"
            ],
            "text/plain": [
              "                                                paciente  ...                           similaridade\n",
              "10701  nome                  Calebe Lucas Drumond\n",
              "dat...  ...  {'cpf': 1, 'data_nasc': 0, 'nome': 1}\n",
              "7638   nome                   Arthur Paulo Enzo Duart...  ...  {'cpf': 1, 'data_nasc': 0, 'nome': 1}\n",
              "3884   nome                  Nicole Alana Almada\n",
              "data...  ...  {'cpf': 1, 'data_nasc': 0, 'nome': 1}\n",
              "6085   nome                  Alícia Bárbara Cavalcant...  ...  {'cpf': 1, 'data_nasc': 0, 'nome': 1}\n",
              "14281  nome                  Ruan Theo Duarte\n",
              "data_na...  ...  {'cpf': 1, 'data_nasc': 0, 'nome': 1}\n",
              "5237   nome                  Sarah Gabrielly Aragão\n",
              "d...  ...  {'cpf': 1, 'data_nasc': 0, 'nome': 1}\n",
              "13090  nome                  Davi Elias Nascimento\n",
              "da...  ...  {'cpf': 1, 'data_nasc': 0, 'nome': 1}\n",
              "4523   nome                  Lúcia Stella Farias\n",
              "data...  ...  {'cpf': 1, 'data_nasc': 0, 'nome': 1}\n",
              "11637  nome                   Priscila Julia Márcia B...  ...  {'cpf': 1, 'data_nasc': 0, 'nome': 1}\n",
              "5551   nome                   Lucca Severino Martin R...  ...  {'cpf': 1, 'data_nasc': 0, 'nome': 1}\n",
              "\n",
              "[10 rows x 4 columns]"
            ]
          },
          "metadata": {
            "tags": []
          },
          "execution_count": 32
        }
      ]
    },
    {
      "cell_type": "code",
      "metadata": {
        "colab": {
          "base_uri": "https://localhost:8080/",
          "height": 939
        },
        "id": "kLLHwwIrHqD-",
        "outputId": "33c6de52-8757-4295-d26f-8d149c67f2a1"
      },
      "source": [
        "non_matches[non_matches['simSum']> 1.5].sample(10)\r\n",
        "#True Negative: 2\r\n",
        "#False Negative: 8"
      ],
      "execution_count": 36,
      "outputs": [
        {
          "output_type": "execute_result",
          "data": {
            "application/vnd.google.colaboratory.module+javascript": "\n      import \"https://ssl.gstatic.com/colaboratory/data_table/a6224c040fa35dcf/data_table.js\";\n\n      window.createDataTable({\n        data: [[{\n            'v': 4280,\n            'f': \"4280\",\n        },\n\"nome                   Anderson Raul Rafael Assunc\\u00e3o\\ndata_nasc                        1900-02-20 00:00:00\\ncpf                                      24186583250\\ntipo_sanguineo                                   AB+\\npeso                                              54\\naltura                                          1.75\\nnome_array        [Anderson, Raul, Rafael, Assunc\\u00e3o]\\nprimeiro_nome                               Anderson\\nsobrenome                                   Assunc\\u00e3o\\nnasc_ano                                        1900\\nnasc_mes                                           2\\nnasc_dia                                          20\\ncpf_0                                              2\\nName: 16, dtype: object\",\n\"nome                                 Anderson Raul Rafael Assun\\u00e7\\u00e3o\\ndata_nasc                                      1970-02-20 00:00:00\\ncpf                                                    24186583250\\nmae                                          S\\u00f4nia Raimunda Analu \\ncelular                                                  999404118\\nemail            andersonraulrafaelassuncao__andersonraulrafael...\\ntelefone_fixo                                             27539426\\nnome_array                      [Anderson, Raul, Rafael, Assun\\u00e7\\u00e3o]\\nprimeiro_nome                                             Anderson\\nsobrenome                                                 Assun\\u00e7\\u00e3o\\nnasc_ano                                                      1970\\nnasc_mes                                                         2\\nnasc_dia                                                        20\\ncpf_0                                                            2\\nName: 70, dtype: object\",\n{\n            'v': 1.98,\n            'f': \"1.98\",\n        },\n\"{'cpf': 1, 'data_nasc': 0, 'nome': 0.98}\"],\n [{\n            'v': 9330,\n            'f': \"9330\",\n        },\n\"nome                  Enzo Albuquerque Silva\\ndata_nasc                2015-01-19 00:00:00\\ncpf                              58762423819\\ntipo_sanguineo                            A-\\npeso                                      14\\naltura                                  1.04\\nnome_array        [Enzo, Albuquerque, Silva]\\nprimeiro_nome                           Enzo\\nsobrenome                              Silva\\nnasc_ano                                2015\\nnasc_mes                                   1\\nnasc_dia                                  19\\ncpf_0                                      5\\nName: 176, dtype: object\",\n\"nome                 Antonio Albuquerque Silva\\ndata_nasc                  1980-07-24 00:00:00\\ncpf                                58762423819\\nmae                  Laura Albuquerque Cardoso\\ncelular                            11998970549\\nemail                  antonio.silva@gmail.com\\ntelefone_fixo                       1135494656\\nnome_array       [Antonio, Albuquerque, Silva]\\nprimeiro_nome                          Antonio\\nsobrenome                                Silva\\nnasc_ano                                  1980\\nnasc_mes                                     7\\nnasc_dia                                    24\\ncpf_0                                        5\\nName: 229, dtype: object\",\n{\n            'v': 1.85,\n            'f': \"1.85\",\n        },\n\"{'cpf': 1, 'data_nasc': 0, 'nome': 0.85}\"],\n [{\n            'v': 11030,\n            'f': \"11030\",\n        },\n\"nome                   Sueli Clara Hadassa Cruz\\ndata_nasc                   1900-04-08 00:00:00\\ncpf                                 64692449713\\ntipo_sanguineo                               A+\\npeso                                         67\\naltura                                     1.55\\nnome_array        [Sueli, Clara, Hadassa, Cruz]\\nprimeiro_nome                             Sueli\\nsobrenome                                  Cruz\\nnasc_ano                                   1900\\nnasc_mes                                      4\\nnasc_dia                                      8\\ncpf_0                                         6\\nName: 227, dtype: object\",\n\"nome                             Sueli Clara Hadassa da Cruz\\ndata_nasc                                1991-04-08 00:00:00\\ncpf                                              64692449713\\nmae                                  Aline Marina Francisca \\ncelular                                            989657164\\nemail            sueliclarahadassadacruz-87@cntbrasil.com.br\\ntelefone_fixo                                       35443789\\nnome_array                 [Sueli, Clara, Hadassa, da, Cruz]\\nprimeiro_nome                                          Sueli\\nsobrenome                                               Cruz\\nnasc_ano                                                1991\\nnasc_mes                                                   4\\nnasc_dia                                                   8\\ncpf_0                                                      6\\nName: 288, dtype: object\",\n{\n            'v': 1.94,\n            'f': \"1.94\",\n        },\n\"{'cpf': 1, 'data_nasc': 0, 'nome': 0.94}\"],\n [{\n            'v': 4908,\n            'f': \"4908\",\n        },\n\"nome                  Alice Esther Rosa\\ndata_nasc           1900-01-01 00:00:00\\ncpf                         26984257760\\ntipo_sanguineo                       B-\\npeso                                 67\\naltura                             1.65\\nnome_array        [Alice, Esther, Rosa]\\nprimeiro_nome                     Alice\\nsobrenome                          Rosa\\nnasc_ano                           1900\\nnasc_mes                              1\\nnasc_dia                              1\\ncpf_0                                 2\\nName: 260, dtype: object\",\n\"nome                                          Alice Esther da Rosa\\ndata_nasc                                      1955-02-16 00:00:00\\ncpf                                                    26984257760\\nmae                                          Rita Ant\\u00f4nia Eduarda \\ncelular                                                  983039184\\nemail            aliceestherdarosa__aliceestherdarosa@panevale....\\ntelefone_fixo                                             27390690\\nnome_array                               [Alice, Esther, da, Rosa]\\nprimeiro_nome                                                Alice\\nsobrenome                                                     Rosa\\nnasc_ano                                                      1955\\nnasc_mes                                                         2\\nnasc_dia                                                        16\\ncpf_0                                                            2\\nName: 239, dtype: object\",\n{\n            'v': 1.92,\n            'f': \"1.92\",\n        },\n\"{'cpf': 1, 'data_nasc': 0, 'nome': 0.92}\"],\n [{\n            'v': 8274,\n            'f': \"8274\",\n        },\n\"nome                   Rodrigo Calebe Jo\\u00e3o Goncalves\\ndata_nasc                        1900-01-01 00:00:00\\ncpf                                      53328045554\\ntipo_sanguineo                                    O+\\npeso                                              84\\naltura                                          1.98\\nnome_array        [Rodrigo, Calebe, Jo\\u00e3o, Goncalves]\\nprimeiro_nome                                Rodrigo\\nsobrenome                                  Goncalves\\nnasc_ano                                        1900\\nnasc_mes                                           1\\nnasc_dia                                           1\\ncpf_0                                              5\\nName: 9, dtype: object\",\n\"nome                                 Rodrigo Calebe Jo\\u00e3o Gon\\u00e7alves\\ndata_nasc                                      1987-05-07 00:00:00\\ncpf                                                    53328045554\\nmae                                        Mariah Isabel Raimunda \\ncelular                                                  986838488\\nemail            rodrigocalebejoaogoncalves__rodrigocalebejoaog...\\ntelefone_fixo                                             37861096\\nnome_array                      [Rodrigo, Calebe, Jo\\u00e3o, Gon\\u00e7alves]\\nprimeiro_nome                                              Rodrigo\\nsobrenome                                                Gon\\u00e7alves\\nnasc_ano                                                      1987\\nnasc_mes                                                         5\\nnasc_dia                                                         7\\ncpf_0                                                            5\\nName: 173, dtype: object\",\n{\n            'v': 1.98,\n            'f': \"1.98\",\n        },\n\"{'cpf': 1, 'data_nasc': 0, 'nome': 0.98}\"],\n [{\n            'v': 3557,\n            'f': \"3557\",\n        },\n\"nome                   Anthoni Raimundo Corte Real\\ndata_nasc                      1900-01-01 00:00:00\\ncpf                                    19003075298\\ntipo_sanguineo                                  B+\\npeso                                            54\\naltura                                        1.89\\nnome_array        [Anthoni, Raimundo, Corte, Real]\\nprimeiro_nome                              Anthoni\\nsobrenome                                     Real\\nnasc_ano                                      1900\\nnasc_mes                                         1\\nnasc_dia                                         1\\ncpf_0                                            1\\nName: 6, dtype: object\",\n\"nome                               Anthony Raimundo Corte Real\\ndata_nasc                                  1944-06-18 00:00:00\\ncpf                                                19003075298\\nmae                                         Carla Luzia Luana \\ncelular                                              986725932\\nemail            anthonyraimundocortereal_@catsfeelings.com.br\\ntelefone_fixo                                         29631907\\nnome_array                    [Anthony, Raimundo, Corte, Real]\\nprimeiro_nome                                          Anthony\\nsobrenome                                                 Real\\nnasc_ano                                                  1944\\nnasc_mes                                                     6\\nnasc_dia                                                    18\\ncpf_0                                                        1\\nName: 52, dtype: object\",\n{\n            'v': 1.96,\n            'f': \"1.96\",\n        },\n\"{'cpf': 1, 'data_nasc': 0, 'nome': 0.96}\"],\n [{\n            'v': 11225,\n            'f': \"11225\",\n        },\n\"nome                   Pedro Henrique Gabriel Caldeir\\ndata_nasc                         1900-01-01 00:00:00\\ncpf                                       61784501921\\ntipo_sanguineo                                    AB-\\npeso                                              104\\naltura                                           1.95\\nnome_array        [Pedro, Henrique, Gabriel, Caldeir]\\nprimeiro_nome                                   Pedro\\nsobrenome                                     Caldeir\\nnasc_ano                                         1900\\nnasc_mes                                            1\\nnasc_dia                                            1\\ncpf_0                                               6\\nName: 313, dtype: object\",\n\"nome                               Pedro Henrique Gabriel Caldeira\\ndata_nasc                                      1979-01-12 00:00:00\\ncpf                                                    61784501921\\nmae                                          Mariane Luzia M\\u00e1rcia \\ncelular                                                  984787276\\nemail            pedrohenriquegabrielcaldeira..pedrohenriquegab...\\ntelefone_fixo                                             36111189\\nnome_array                    [Pedro, Henrique, Gabriel, Caldeira]\\nprimeiro_nome                                                Pedro\\nsobrenome                                                 Caldeira\\nnasc_ano                                                      1979\\nnasc_mes                                                         1\\nnasc_dia                                                        12\\ncpf_0                                                            6\\nName: 202, dtype: object\",\n{\n            'v': 1.98,\n            'f': \"1.98\",\n        },\n\"{'cpf': 1, 'data_nasc': 0, 'nome': 0.98}\"],\n [{\n            'v': 8730,\n            'f': \"8730\",\n        },\n\"nome                  Matheus Albuquerque Silva\\ndata_nasc                   2015-01-19 00:00:00\\ncpf                                 58762423819\\ntipo_sanguineo                               A-\\npeso                                         13\\naltura                                     1.07\\nnome_array        [Matheus, Albuquerque, Silva]\\nprimeiro_nome                           Matheus\\nsobrenome                                 Silva\\nnasc_ano                                   2015\\nnasc_mes                                      1\\nnasc_dia                                     19\\ncpf_0                                         5\\nName: 92, dtype: object\",\n\"nome                 Antonio Albuquerque Silva\\ndata_nasc                  1980-07-24 00:00:00\\ncpf                                58762423819\\nmae                  Laura Albuquerque Cardoso\\ncelular                            11998970549\\nemail                  antonio.silva@gmail.com\\ntelefone_fixo                       1135494656\\nnome_array       [Antonio, Albuquerque, Silva]\\nprimeiro_nome                          Antonio\\nsobrenome                                Silva\\nnasc_ano                                  1980\\nnasc_mes                                     7\\nnasc_dia                                    24\\ncpf_0                                        5\\nName: 229, dtype: object\",\n{\n            'v': 1.8,\n            'f': \"1.8\",\n        },\n\"{'cpf': 1, 'data_nasc': 0, 'nome': 0.8}\"],\n [{\n            'v': 2927,\n            'f': \"2927\",\n        },\n\"nome                  Gustavo Anthony Santos\\ndata_nasc                1900-01-01 00:00:00\\ncpf                              09874775106\\ntipo_sanguineo                            A+\\npeso                                      86\\naltura                                  1.62\\nnome_array        [Gustavo, Anthony, Santos]\\nprimeiro_nome                        Gustavo\\nsobrenome                             Santos\\nnasc_ano                                1900\\nnasc_mes                                   1\\nnasc_dia                                   1\\ncpf_0                                      0\\nName: 285, dtype: object\",\n\"nome                               Gustavo Anthony dos Santos\\ndata_nasc                                 1979-08-23 00:00:00\\ncpf                                               09874775106\\nmae                                          Mariana Beatriz \\ncelular                                             986639990\\nemail            gustavoanthonydossantos_@gruposandino.com.br\\ntelefone_fixo                                        35295873\\nnome_array                    [Gustavo, Anthony, dos, Santos]\\nprimeiro_nome                                         Gustavo\\nsobrenome                                              Santos\\nnasc_ano                                                 1979\\nnasc_mes                                                    8\\nnasc_dia                                                   23\\ncpf_0                                                       0\\nName: 74, dtype: object\",\n{\n            'v': 1.92,\n            'f': \"1.92\",\n        },\n\"{'cpf': 1, 'data_nasc': 0, 'nome': 0.92}\"],\n [{\n            'v': 13370,\n            'f': \"13370\",\n        },\n\"nome                   Calebe Gustavo Davi Cruz\\ndata_nasc                   1900-01-01 00:00:00\\ncpf                                 89510873870\\ntipo_sanguineo                               B+\\npeso                                        106\\naltura                                     1.64\\nnome_array        [Calebe, Gustavo, Davi, Cruz]\\nprimeiro_nome                            Calebe\\nsobrenome                                  Cruz\\nnasc_ano                                   1900\\nnasc_mes                                      1\\nnasc_dia                                      1\\ncpf_0                                         8\\nName: 43, dtype: object\",\n\"nome                   Calebe Gustavo Davi da Cruz\\ndata_nasc                      1946-05-23 00:00:00\\ncpf                                    89510873870\\nmae                            Luana Heloise Malu \\ncelular                                  981849430\\nemail              ccalebegustavodavidacruz@dr.com\\ntelefone_fixo                             26350898\\nnome_array       [Calebe, Gustavo, Davi, da, Cruz]\\nprimeiro_nome                               Calebe\\nsobrenome                                     Cruz\\nnasc_ano                                      1946\\nnasc_mes                                         5\\nnasc_dia                                        23\\ncpf_0                                            8\\nName: 184, dtype: object\",\n{\n            'v': 1.94,\n            'f': \"1.94\",\n        },\n\"{'cpf': 1, 'data_nasc': 0, 'nome': 0.94}\"]],\n        columns: [[\"number\", \"index\"], [\"string\", \"paciente\"], [\"string\", \"registro\"], [\"number\", \"simSum\"], [\"string\", \"similaridade\"]],\n        columnOptions: [{\"width\": \"1px\", \"className\": \"index_column\"}],\n        rowsPerPage: 25,\n        helpUrl: \"https://colab.research.google.com/notebooks/data_table.ipynb\",\n        suppressOutputScrolling: true,\n        minimumWidth: undefined,\n      });\n    ",
            "text/html": [
              "<div>\n",
              "<style scoped>\n",
              "    .dataframe tbody tr th:only-of-type {\n",
              "        vertical-align: middle;\n",
              "    }\n",
              "\n",
              "    .dataframe tbody tr th {\n",
              "        vertical-align: top;\n",
              "    }\n",
              "\n",
              "    .dataframe thead th {\n",
              "        text-align: right;\n",
              "    }\n",
              "</style>\n",
              "<table border=\"1\" class=\"dataframe\">\n",
              "  <thead>\n",
              "    <tr style=\"text-align: right;\">\n",
              "      <th></th>\n",
              "      <th>paciente</th>\n",
              "      <th>registro</th>\n",
              "      <th>simSum</th>\n",
              "      <th>similaridade</th>\n",
              "    </tr>\n",
              "  </thead>\n",
              "  <tbody>\n",
              "    <tr>\n",
              "      <th>4280</th>\n",
              "      <td>nome                   Anderson Raul Rafael As...</td>\n",
              "      <td>nome                                 Anderson ...</td>\n",
              "      <td>1.98</td>\n",
              "      <td>{'cpf': 1, 'data_nasc': 0, 'nome': 0.98}</td>\n",
              "    </tr>\n",
              "    <tr>\n",
              "      <th>9330</th>\n",
              "      <td>nome                  Enzo Albuquerque Silva\n",
              "d...</td>\n",
              "      <td>nome                 Antonio Albuquerque Silva...</td>\n",
              "      <td>1.85</td>\n",
              "      <td>{'cpf': 1, 'data_nasc': 0, 'nome': 0.85}</td>\n",
              "    </tr>\n",
              "    <tr>\n",
              "      <th>11030</th>\n",
              "      <td>nome                   Sueli Clara Hadassa Cru...</td>\n",
              "      <td>nome                             Sueli Clara H...</td>\n",
              "      <td>1.94</td>\n",
              "      <td>{'cpf': 1, 'data_nasc': 0, 'nome': 0.94}</td>\n",
              "    </tr>\n",
              "    <tr>\n",
              "      <th>4908</th>\n",
              "      <td>nome                  Alice Esther Rosa\n",
              "data_n...</td>\n",
              "      <td>nome                                          ...</td>\n",
              "      <td>1.92</td>\n",
              "      <td>{'cpf': 1, 'data_nasc': 0, 'nome': 0.92}</td>\n",
              "    </tr>\n",
              "    <tr>\n",
              "      <th>8274</th>\n",
              "      <td>nome                   Rodrigo Calebe João Gon...</td>\n",
              "      <td>nome                                 Rodrigo C...</td>\n",
              "      <td>1.98</td>\n",
              "      <td>{'cpf': 1, 'data_nasc': 0, 'nome': 0.98}</td>\n",
              "    </tr>\n",
              "    <tr>\n",
              "      <th>3557</th>\n",
              "      <td>nome                   Anthoni Raimundo Corte ...</td>\n",
              "      <td>nome                               Anthony Rai...</td>\n",
              "      <td>1.96</td>\n",
              "      <td>{'cpf': 1, 'data_nasc': 0, 'nome': 0.96}</td>\n",
              "    </tr>\n",
              "    <tr>\n",
              "      <th>11225</th>\n",
              "      <td>nome                   Pedro Henrique Gabriel ...</td>\n",
              "      <td>nome                               Pedro Henri...</td>\n",
              "      <td>1.98</td>\n",
              "      <td>{'cpf': 1, 'data_nasc': 0, 'nome': 0.98}</td>\n",
              "    </tr>\n",
              "    <tr>\n",
              "      <th>8730</th>\n",
              "      <td>nome                  Matheus Albuquerque Silv...</td>\n",
              "      <td>nome                 Antonio Albuquerque Silva...</td>\n",
              "      <td>1.80</td>\n",
              "      <td>{'cpf': 1, 'data_nasc': 0, 'nome': 0.8}</td>\n",
              "    </tr>\n",
              "    <tr>\n",
              "      <th>2927</th>\n",
              "      <td>nome                  Gustavo Anthony Santos\n",
              "d...</td>\n",
              "      <td>nome                               Gustavo Ant...</td>\n",
              "      <td>1.92</td>\n",
              "      <td>{'cpf': 1, 'data_nasc': 0, 'nome': 0.92}</td>\n",
              "    </tr>\n",
              "    <tr>\n",
              "      <th>13370</th>\n",
              "      <td>nome                   Calebe Gustavo Davi Cru...</td>\n",
              "      <td>nome                   Calebe Gustavo Davi da ...</td>\n",
              "      <td>1.94</td>\n",
              "      <td>{'cpf': 1, 'data_nasc': 0, 'nome': 0.94}</td>\n",
              "    </tr>\n",
              "  </tbody>\n",
              "</table>\n",
              "</div>"
            ],
            "text/plain": [
              "                                                paciente  ...                              similaridade\n",
              "4280   nome                   Anderson Raul Rafael As...  ...  {'cpf': 1, 'data_nasc': 0, 'nome': 0.98}\n",
              "9330   nome                  Enzo Albuquerque Silva\n",
              "d...  ...  {'cpf': 1, 'data_nasc': 0, 'nome': 0.85}\n",
              "11030  nome                   Sueli Clara Hadassa Cru...  ...  {'cpf': 1, 'data_nasc': 0, 'nome': 0.94}\n",
              "4908   nome                  Alice Esther Rosa\n",
              "data_n...  ...  {'cpf': 1, 'data_nasc': 0, 'nome': 0.92}\n",
              "8274   nome                   Rodrigo Calebe João Gon...  ...  {'cpf': 1, 'data_nasc': 0, 'nome': 0.98}\n",
              "3557   nome                   Anthoni Raimundo Corte ...  ...  {'cpf': 1, 'data_nasc': 0, 'nome': 0.96}\n",
              "11225  nome                   Pedro Henrique Gabriel ...  ...  {'cpf': 1, 'data_nasc': 0, 'nome': 0.98}\n",
              "8730   nome                  Matheus Albuquerque Silv...  ...   {'cpf': 1, 'data_nasc': 0, 'nome': 0.8}\n",
              "2927   nome                  Gustavo Anthony Santos\n",
              "d...  ...  {'cpf': 1, 'data_nasc': 0, 'nome': 0.92}\n",
              "13370  nome                   Calebe Gustavo Davi Cru...  ...  {'cpf': 1, 'data_nasc': 0, 'nome': 0.94}\n",
              "\n",
              "[10 rows x 4 columns]"
            ]
          },
          "metadata": {
            "tags": []
          },
          "execution_count": 36
        }
      ]
    },
    {
      "cell_type": "code",
      "metadata": {
        "colab": {
          "base_uri": "https://localhost:8080/"
        },
        "id": "Leb_jjVTIM3h",
        "outputId": "d3c39134-f430-43b3-b427-123c8bb657de"
      },
      "source": [
        "#True Positive: 10\r\n",
        "#False Positive: 0\r\n",
        "#True Negative: 2\r\n",
        "#False Negative: 8\r\n",
        "TP = 10\r\n",
        "FP = 0\r\n",
        "TN = 2\r\n",
        "FN = 8\r\n",
        "\r\n",
        "acuracia = (TP+TN)/(TP+FP+TN+FN)\r\n",
        "precisao = TP/(TP+FP)\r\n",
        "recall = TP/(TP+FN)\r\n",
        "fmeasure = 2*(precisao*recall)/(precisao+recall)\r\n",
        "\r\n",
        "print(\"Acuracia: {}\".format(acuracia))\r\n",
        "print(\"Recall: {}\".format(recall))\r\n",
        "print(\"Precisão: {}\".format(precisao))\r\n",
        "print(\"F-measure: {}\".format(fmeasure))"
      ],
      "execution_count": 37,
      "outputs": [
        {
          "output_type": "stream",
          "text": [
            "Acuracia: 0.6\n",
            "Recall: 0.5555555555555556\n",
            "Precisão: 1.0\n",
            "F-measure: 0.7142857142857143\n"
          ],
          "name": "stdout"
        }
      ]
    },
    {
      "cell_type": "markdown",
      "metadata": {
        "id": "7hYPI0nfI1gp"
      },
      "source": [
        "Exercício 7: Revisão Manual (Clerical Review)\r\n",
        "*    Com a classificação feita, que alterações nos valores de threshold poderíamos fazer, para minimizar os matches potenciais e melhorar a avaliação do modelo??"
      ]
    }
  ]
}