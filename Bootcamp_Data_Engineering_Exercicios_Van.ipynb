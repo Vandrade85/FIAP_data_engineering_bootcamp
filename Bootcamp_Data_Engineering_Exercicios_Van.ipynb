{
  "nbformat": 4,
  "nbformat_minor": 0,
  "metadata": {
    "colab": {
      "provenance": [],
      "include_colab_link": true
    },
    "kernelspec": {
      "name": "python3",
      "display_name": "Python 3"
    }
  },
  "cells": [
    {
      "cell_type": "markdown",
      "metadata": {
        "id": "view-in-github",
        "colab_type": "text"
      },
      "source": [
        "<a href=\"https://colab.research.google.com/github/Vandrade85/FIAP_data_engineering_bootcamp/blob/main/Bootcamp_Data_Engineering_Exercicios_Van.ipynb\" target=\"_parent\"><img src=\"https://colab.research.google.com/assets/colab-badge.svg\" alt=\"Open In Colab\"/></a>"
      ]
    },
    {
      "cell_type": "markdown",
      "metadata": {
        "id": "IkOKeo-bCZD1"
      },
      "source": [
        "# Temos duas bases de dados pessoais (fictícios)\n",
        "\n",
        "\n",
        "*   cadastro.csv (dados de cadastro)\n",
        "*   dados_medicos.csv (registros médicos)\n",
        "\n",
        "Temos que unificar as duas bases e criar uma nova base agrupada\n",
        "\n",
        "Código localizado em https://github.com/renzoziegler/data_engineering_bootcamp\n"
      ]
    },
    {
      "cell_type": "markdown",
      "metadata": {
        "id": "b0BumJeBDsHw"
      },
      "source": [
        "Exercício 1:\n",
        "\n",
        "\n",
        "*   Importar o Pandas\n",
        "*   Instalar e importar a biblioteca fuzzywuzzy (será importante mais pra frente)\n",
        "*   Ler os arquivos CSV fornecidos\n",
        "** https://raw.githubusercontent.com/renzoziegler/data_engineering_bootcamp/main/cadastro.csv\n",
        "** https://raw.githubusercontent.com/renzoziegler/data_engineering_bootcamp/main/dados_medicos.csv\n",
        "*   Realizar uma análise exploratória dos dados\n",
        "\n"
      ]
    },
    {
      "cell_type": "code",
      "source": [
        "## Instalação das bibliotecas\n",
        "!pip install pandas\n",
        "!pip install fuzzywuzzy"
      ],
      "metadata": {
        "id": "LBlmW25EgAeJ",
        "outputId": "cadeb7d9-ff39-48ff-b36e-62d3b84e052b",
        "colab": {
          "base_uri": "https://localhost:8080/"
        }
      },
      "execution_count": 50,
      "outputs": [
        {
          "output_type": "stream",
          "name": "stdout",
          "text": [
            "Requirement already satisfied: pandas in /usr/local/lib/python3.10/dist-packages (2.1.4)\n",
            "Requirement already satisfied: numpy<2,>=1.22.4 in /usr/local/lib/python3.10/dist-packages (from pandas) (1.26.4)\n",
            "Requirement already satisfied: python-dateutil>=2.8.2 in /usr/local/lib/python3.10/dist-packages (from pandas) (2.8.2)\n",
            "Requirement already satisfied: pytz>=2020.1 in /usr/local/lib/python3.10/dist-packages (from pandas) (2024.1)\n",
            "Requirement already satisfied: tzdata>=2022.1 in /usr/local/lib/python3.10/dist-packages (from pandas) (2024.1)\n",
            "Requirement already satisfied: six>=1.5 in /usr/local/lib/python3.10/dist-packages (from python-dateutil>=2.8.2->pandas) (1.16.0)\n",
            "Requirement already satisfied: fuzzywuzzy in /usr/local/lib/python3.10/dist-packages (0.18.0)\n"
          ]
        }
      ]
    },
    {
      "cell_type": "code",
      "execution_count": 51,
      "metadata": {
        "id": "LcnIYSGts92R"
      },
      "outputs": [],
      "source": [
        "## Importação das bibliotecas\n",
        "import pandas as pd\n",
        "from fuzzywuzzy import fuzz"
      ]
    },
    {
      "cell_type": "markdown",
      "metadata": {
        "id": "Djtr6rQhED2H"
      },
      "source": [
        "Para análise exploratória, vamos entender as bases de dados: seu tamanho, quais dados estão disponíveis, qual o formato deles, se estão completos ou não....."
      ]
    },
    {
      "cell_type": "code",
      "source": [
        "# URLs dos arquivos no GitHub\n",
        "url_cadastro = \"https://raw.githubusercontent.com/Vandrade85/FIAP_data_engineering_bootcamp/main/cadastro.csv\"\n",
        "url_dados_medicos = \"https://raw.githubusercontent.com/Vandrade85/FIAP_data_engineering_bootcamp/main/dados_medicos.csv\"\n",
        "\n",
        "# Carregar os arquivos em dataframe\n",
        "df_cadastro = pd.read_csv(url_cadastro)\n",
        "df_dados_medicos = pd.read_csv(url_dados_medicos)\n",
        "\n",
        "# Exibir as primeiras 5 linhas\n",
        "print(\"Dados de Cadastro (primeiras 5 linhas):\")\n",
        "print(df_cadastro.head().to_string(index=False))\n",
        "\n",
        "print(\"\\nDados Médicos (primeiras 5 linhas):\")\n",
        "print(df_dados_medicos.head().to_string(index=False))\n"
      ],
      "metadata": {
        "id": "Y9m2Yl3AiZzf",
        "outputId": "c695959d-09d0-4dda-f0ee-5622a1722814",
        "colab": {
          "base_uri": "https://localhost:8080/"
        }
      },
      "execution_count": 94,
      "outputs": [
        {
          "output_type": "stream",
          "name": "stdout",
          "text": [
            "Dados de Cadastro (primeiras 5 linhas):\n",
            "                           nome  data_nasc         cpf                    mae   celular                                                                 email  telefone_fixo\n",
            "            Cauã Isaac Caldeira 02-03-1945 35083528118 Vitória Kamilly Sueli  989048340               cauaisaaccaldeira__cauaisaaccaldeira@hardquality.com.br       28317237\n",
            "    Lúcia Carolina Luzia Almada 11-11-1946  6480417194     Stefany Teresinha  997275887                                luciacarolinaluziaalmada_@santarte.com       27446850\n",
            "    Vicente Marcos Edson Castro 15-01-1959 72192158432 Cecília Laura Larissa  994560743                          vicentemarcosedsoncastro-74@lavorosjc.com.br       28581372\n",
            "    Yago Pedro Henrique da Cruz 24-10-1945 68328310562      Cristiane Pietra  982340551                      yagopedrohenriquedacruz_@elevaconsultancy.com.br       25189906\n",
            "Valentina Stefany Alana Cardoso 23-03-1953 76298423761     Francisca Adriana  999976430 valentinastefanyalanacardoso..valentinastefanyalanacardoso@galvao.com       26584091\n",
            "\n",
            "Dados Médicos (primeiras 5 linhas):\n",
            "                       nome  data_nasc         cpf tipo_sanguineo  peso altura\n",
            "   Alice Liz Adriana Duarte 22/10/1975 58548099313             O-    89   1,57\n",
            "            Kaue César Lima 01/01/1900 31515413217            AB-    62   1,99\n",
            "Otávio Felipe Henry Almeida 10/01/1951 58271711156             A-    85   1,66\n",
            "   Rafaela Francisca Mendes 07/11/1974 31087464641             O+    46   1,74\n",
            " Bryan Joaquim Roberto Rosa 07/09/1957 61606247174            AB-    66   1,67\n"
          ]
        }
      ]
    },
    {
      "cell_type": "code",
      "source": [
        "# Qdt linhas, qdt colunas\n",
        "print(df_cadastro.shape)\n",
        "print(df_dados_medicos.shape)"
      ],
      "metadata": {
        "colab": {
          "base_uri": "https://localhost:8080/"
        },
        "id": "awcqvIGovw1H",
        "outputId": "ecfd8372-3ab1-4ac5-c096-4536809c2ecd"
      },
      "execution_count": 68,
      "outputs": [
        {
          "output_type": "stream",
          "name": "stdout",
          "text": [
            "(393, 7)\n",
            "(368, 6)\n"
          ]
        }
      ]
    },
    {
      "cell_type": "code",
      "source": [
        "#Possiveis combinaçoes\n",
        "resultado = 393 * 368 ## Qdt de linhas do cadastro x a qdt de linhas dos dados medicos\n",
        "print(resultado)"
      ],
      "metadata": {
        "colab": {
          "base_uri": "https://localhost:8080/"
        },
        "id": "gqbq8kgKwjSJ",
        "outputId": "ce12e67e-6559-4b34-a147-5130e81a6a4a"
      },
      "execution_count": 69,
      "outputs": [
        {
          "output_type": "stream",
          "name": "stdout",
          "text": [
            "144624\n"
          ]
        }
      ]
    },
    {
      "cell_type": "code",
      "source": [
        "print(\"\\nCadastro\")\n",
        "print(df_cadastro.dtypes)\n",
        "\n",
        "print(\"\\nDados Medicos\")\n",
        "print(df_dados_medicos.dtypes)"
      ],
      "metadata": {
        "colab": {
          "base_uri": "https://localhost:8080/"
        },
        "id": "bUdKLeNEwCM0",
        "outputId": "80ddb73e-0544-4534-9313-326d3b1ea486"
      },
      "execution_count": 70,
      "outputs": [
        {
          "output_type": "stream",
          "name": "stdout",
          "text": [
            "\n",
            "Cadastro\n",
            "nome             object\n",
            "data_nasc        object\n",
            "cpf               int64\n",
            "mae              object\n",
            "celular           int64\n",
            "email            object\n",
            "telefone_fixo     int64\n",
            "dtype: object\n",
            "\n",
            "Dados Medicos\n",
            "nome              object\n",
            "data_nasc         object\n",
            "cpf                int64\n",
            "tipo_sanguineo    object\n",
            "peso               int64\n",
            "altura            object\n",
            "dtype: object\n"
          ]
        }
      ]
    },
    {
      "cell_type": "markdown",
      "metadata": {
        "id": "zMwyM1L_EndS"
      },
      "source": [
        "Exercício 2: Pré-processamento\n",
        "*   Quais tarefas vocês listam como necessárias?\n",
        " *  Padronização de campos\n",
        " *  Substituir valores\n",
        " *  Retirar caracteres especiais\n",
        "*   Listar e executar!"
      ]
    },
    {
      "cell_type": "markdown",
      "source": [
        "PADRONIZAÇÃO DO CADASTRO"
      ],
      "metadata": {
        "id": "aINcg_YtmHyI"
      }
    },
    {
      "cell_type": "code",
      "execution_count": 106,
      "metadata": {
        "id": "O41HSbwA_rRJ",
        "outputId": "6f7157a2-9580-474a-895a-9f2aace8f7f7",
        "colab": {
          "base_uri": "https://localhost:8080/"
        }
      },
      "outputs": [
        {
          "output_type": "stream",
          "name": "stdout",
          "text": [
            "DataFrame após pré-processamento:\n",
            "                           nome  data_nasc         cpf                    mae   celular                                                                 email  telefone_fixo                           nome_array primeiro_nome sobrenome  nasc_ano nasc_mes nasc_dia\n",
            "            CAUA ISAAC CALDEIRA 1945-03-02 35083528118 VITORIA KAMILLY SUELI  989048340               cauaisaaccaldeira__cauaisaaccaldeira@hardquality.com.br       28317237              [CAUA, ISAAC, CALDEIRA]          CAUA  CALDEIRA      1945       03       02\n",
            "    LUCIA CAROLINA LUZIA ALMADA 1946-11-11 06480417194     STEFANY TERESINHA  997275887                                luciacarolinaluziaalmada_@santarte.com       27446850     [LUCIA, CAROLINA, LUZIA, ALMADA]         LUCIA    ALMADA      1946       11       11\n",
            "    VICENTE MARCOS EDSON CASTRO 1959-01-15 72192158432 CECILIA LAURA LARISSA  994560743                          vicentemarcosedsoncastro-74@lavorosjc.com.br       28581372     [VICENTE, MARCOS, EDSON, CASTRO]       VICENTE    CASTRO      1959       01       15\n",
            "    YAGO PEDRO HENRIQUE DA CRUZ 1945-10-24 68328310562      CRISTIANE PIETRA  982340551                      yagopedrohenriquedacruz_@elevaconsultancy.com.br       25189906    [YAGO, PEDRO, HENRIQUE, DA, CRUZ]          YAGO      CRUZ      1945       10       24\n",
            "VALENTINA STEFANY ALANA CARDOSO 1953-03-23 76298423761     FRANCISCA ADRIANA  999976430 valentinastefanyalanacardoso..valentinastefanyalanacardoso@galvao.com       26584091 [VALENTINA, STEFANY, ALANA, CARDOSO]     VALENTINA   CARDOSO      1953       03       23\n"
          ]
        }
      ],
      "source": [
        "# Renomear as colunas para letras minúsculas e alterar o espaço por _\n",
        "df_cadastro.columns = df_cadastro.columns.str.lower().str.replace(' ', '_')\n",
        "\n",
        "# Subistituir valores texto para desconhecido caso não e exista e valor 0 para valores númericos\n",
        "df_cadastro.fillna({\n",
        "    'nome': 'DESCONHECIDO',\n",
        "    'mae': 'DESCONHECIDO',\n",
        "    'cpf': 0 ,\n",
        "    'celular': 0,\n",
        "    'email': 'DESCONHECIDO'\n",
        "    }, inplace=True)\n",
        "\n",
        "# Tabela de mapeamento para remoção de acentuação\n",
        "accents_mapping = {\n",
        "    'ã': 'a', 'â': 'a', 'á': 'a', 'à': 'a', 'ä': 'a',\n",
        "    'ê': 'e', 'é': 'e', 'è': 'e', 'ë': 'e',\n",
        "    'î': 'i', 'í': 'i', 'ì': 'i', 'ï': 'i',\n",
        "    'ô': 'o', 'ó': 'o', 'ò': 'o', 'ö': 'o',\n",
        "    'û': 'u', 'ú': 'u', 'ù': 'u', 'ü': 'u',\n",
        "    'ç': 'c'\n",
        "}\n",
        "\n",
        "def remove_accents(text):\n",
        "    for accent, replacement in accents_mapping.items():\n",
        "        text = text.replace(accent, replacement)\n",
        "    return text\n",
        "\n",
        "# Aplicar a remoção de acentuação\n",
        "text_columns = ['nome', 'mae']\n",
        "for col in text_columns:\n",
        "    df_cadastro[col] = df_cadastro[col].apply(remove_accents)\n",
        "    df_cadastro[col] = df_cadastro[col].str.replace(r'[^\\w\\s]', '', regex=True)\n",
        "\n",
        "# Alterar colunas com informações em texto para maiusculas\n",
        "categorical_columns = ['nome', 'mae']\n",
        "for col in categorical_columns:\n",
        "    if col in df_cadastro.columns:\n",
        "        df_cadastro[col] = df_cadastro[col].str.upper()\n",
        "\n",
        "# Criar coluna com nome e sobrenome\n",
        "df_cadastro['nome_array'] = df_cadastro.nome.str.split()\n",
        "df_cadastro['primeiro_nome'] = df_cadastro.nome_array.str[0]\n",
        "df_cadastro['sobrenome'] = df_cadastro.nome_array.str[-1]\n",
        "\n",
        "# Converter o campo 'cpf' para string e preencher com zeros à esquerda para garantir 11 caracteres\n",
        "if 'cpf' in df_cadastro.columns:  # Verifica se a coluna existe no DataFrame\n",
        "    df_cadastro['cpf'] = df_cadastro['cpf'].astype(str).str.zfill(11)\n",
        "\n",
        "# Converter a coluna 'data_nasc' para o tipo datetime\n",
        "df_cadastro['data_nasc'] = pd.to_datetime(df_cadastro['data_nasc'], format='%d/%m/%Y')\n",
        "\n",
        "# Criar coluna com ano, mês e dia separados\n",
        "df_cadastro['nasc_ano'] = df_cadastro['data_nasc'].dt.year\n",
        "df_cadastro['nasc_mes'] = df_cadastro['data_nasc'].dt.month.apply(lambda x: f'{x:02d}')\n",
        "df_cadastro['nasc_dia'] = df_cadastro['data_nasc'].dt.day.apply(lambda x: f'{x:02d}')\n",
        "\n",
        "# Exibir as primeiras 5 linhas\n",
        "print(\"DataFrame após pré-processamento:\")\n",
        "print(df_cadastro.head().to_string(index=False))\n"
      ]
    },
    {
      "cell_type": "markdown",
      "source": [
        "PADRONIZAÇÃO DOS DADOS MÉDICOS"
      ],
      "metadata": {
        "id": "xOx3j2tMmNyL"
      }
    },
    {
      "cell_type": "code",
      "source": [
        "# Renomear as colunas para letras minúsculas e alterar o espaço por _\n",
        "df_dados_medicos.columns = df_dados_medicos.columns.str.lower().str.replace(' ', '_')\n",
        "\n",
        "# Subistituir valores texto para desconhecido caso não e exista e valor 0 para valores númericos\n",
        "df_dados_medicos.fillna({\n",
        "    'nome': 'DESCONHECIDO',\n",
        "    'mae': 'DESCONHECIDO',\n",
        "    'cpf': 0 ,\n",
        "    'celular': 0,\n",
        "    'email': 'DESCONHECIDO'\n",
        "    }, inplace=True)\n",
        "\n",
        "# Tabela de mapeamento para remoção de acentuação\n",
        "accents_mapping = {\n",
        "    'ã': 'a', 'â': 'a', 'á': 'a', 'à': 'a', 'ä': 'a',\n",
        "    'ê': 'e', 'é': 'e', 'è': 'e', 'ë': 'e',\n",
        "    'î': 'i', 'í': 'i', 'ì': 'i', 'ï': 'i',\n",
        "    'ô': 'o', 'ó': 'o', 'ò': 'o', 'ö': 'o',\n",
        "    'û': 'u', 'ú': 'u', 'ù': 'u', 'ü': 'u',\n",
        "    'ç': 'c'\n",
        "}\n",
        "\n",
        "def remove_accents(text):\n",
        "    for accent, replacement in accents_mapping.items():\n",
        "        text = text.replace(accent, replacement)\n",
        "    return text\n",
        "\n",
        "# Aplicar a remoção de acentuação\n",
        "text_columns = ['nome']\n",
        "for col in text_columns:\n",
        "    df_dados_medicos[col] = df_dados_medicos[col].apply(remove_accents)\n",
        "    df_dados_medicos[col] = df_dados_medicos[col].str.replace(r'[^\\w\\s]', '', regex=True)\n",
        "\n",
        "# Alterar colunas com informações em texto para maiusculas\n",
        "categorical_columns = ['nome']\n",
        "for col in categorical_columns:\n",
        "    if col in df_dados_medicos.columns:\n",
        "        df_dados_medicos[col] = df_dados_medicos[col].str.upper()\n",
        "\n",
        "# Criar coluna com nome e sobrenome\n",
        "df_dados_medicos['nome_array'] = df_dados_medicos.nome.str.split()\n",
        "df_dados_medicos['primeiro_nome'] = df_dados_medicos.nome_array.str[0]\n",
        "df_dados_medicos['sobrenome'] = df_dados_medicos.nome_array.str[-1]\n",
        "\n",
        "# Converter o campo 'cpf' para string e preencher com zeros à esquerda para garantir 11 caracteres\n",
        "if 'cpf' in df_dados_medicos.columns:  # Verifica se a coluna existe no DataFrame\n",
        "    df_dados_medicos['cpf'] = df_dados_medicos['cpf'].astype(str).str.zfill(11)\n",
        "\n",
        "# Converter a coluna 'data_nasc' para o tipo datetime\n",
        "def parse_date(date_str):\n",
        "    formats = ['%d/%m/%Y', '%d-%m-%Y']\n",
        "    for fmt in formats:\n",
        "        try:\n",
        "            return pd.to_datetime(date_str, format=fmt)\n",
        "        except ValueError:\n",
        "            continue\n",
        "    return pd.NaT  # Retorna NaT para formatos não reconhecidos\n",
        "\n",
        "df_dados_medicos['data_nasc'] = df_dados_medicos['data_nasc'].apply(parse_date)\n",
        "\n",
        "# Converter a coluna 'data_nasc' para o tipo datetime\n",
        "df_dados_medicos['data_nasc'] = pd.to_datetime(df_dados_medicos['data_nasc'], format='%d/%m/%Y')\n",
        "\n",
        "# Criar coluna com ano, mês e dia separados\n",
        "df_dados_medicos['nasc_ano'] = df_dados_medicos['data_nasc'].dt.year\n",
        "df_dados_medicos['nasc_mes'] = df_dados_medicos['data_nasc'].dt.month.apply(lambda x: f'{x:02d}')\n",
        "df_dados_medicos['nasc_dia'] = df_dados_medicos['data_nasc'].dt.day.apply(lambda x: f'{x:02d}')\n",
        "\n",
        "# Exibir as primeiras 5 linhas\n",
        "print(\"DataFrame após pré-processamento:\")\n",
        "print(df_dados_medicos.head().to_string(index=False))"
      ],
      "metadata": {
        "id": "QrtRwydWmS4m",
        "outputId": "9061cd92-2155-4726-9153-c71135e4c365",
        "colab": {
          "base_uri": "https://localhost:8080/"
        }
      },
      "execution_count": 104,
      "outputs": [
        {
          "output_type": "stream",
          "name": "stdout",
          "text": [
            "DataFrame após pré-processamento:\n",
            "                       nome  data_nasc         cpf tipo_sanguineo  peso altura                       nome_array primeiro_nome sobrenome  nasc_ano nasc_mes nasc_dia\n",
            "   ALICE LIZ ADRIANA DUARTE 1975-10-22 58548099313             O-    89   1,57    [ALICE, LIZ, ADRIANA, DUARTE]         ALICE    DUARTE      1975       10       22\n",
            "            KAUE CESAR LIMA 1900-01-01 31515413217            AB-    62   1,99              [KAUE, CESAR, LIMA]          KAUE      LIMA      1900       01       01\n",
            "OTAVIO FELIPE HENRY ALMEIDA 1951-01-10 58271711156             A-    85   1,66 [OTAVIO, FELIPE, HENRY, ALMEIDA]        OTAVIO   ALMEIDA      1951       01       10\n",
            "   RAFAELA FRANCISCA MENDES 1974-11-07 31087464641             O+    46   1,74     [RAFAELA, FRANCISCA, MENDES]       RAFAELA    MENDES      1974       11       07\n",
            " BRYAN JOAQUIM ROBERTO ROSA 1957-09-07 61606247174            AB-    66   1,67  [BRYAN, JOAQUIM, ROBERTO, ROSA]         BRYAN      ROSA      1957       09       07\n"
          ]
        }
      ]
    },
    {
      "cell_type": "markdown",
      "metadata": {
        "id": "_5RrDraGFFdI"
      },
      "source": [
        "Exercício 3: Indexação\n",
        "*    Listar possíveis blocking Keys\n",
        "*    Definir uma a ser utilizada\n",
        "*    Criar os blocos\n",
        "*    Listar os possíveis matches em cada bloco"
      ]
    },
    {
      "cell_type": "markdown",
      "source": [
        "LISTAR BLOCKING KEYS - Cadastro\n",
        "* Consulta por CPF"
      ],
      "metadata": {
        "id": "TEoXd4YwswgU"
      }
    },
    {
      "cell_type": "code",
      "source": [
        "# Criar os blocos com base na chave de bloqueio (cpf)\n",
        "blocks = df_cadastro.groupby('cpf')\n",
        "\n",
        "# Listar os possíveis matches em cada bloco\n",
        "matches = []\n",
        "for cpf, block in blocks:\n",
        "    if len(block) > 1:\n",
        "        block['block_cpf'] = cpf\n",
        "        matches.append(block)\n",
        "\n",
        "df_matches = pd.concat(matches)\n",
        "\n",
        "print(\"Possíveis matches em cada bloco:\")\n",
        "print(df_matches.to_string(index=False))"
      ],
      "metadata": {
        "colab": {
          "base_uri": "https://localhost:8080/"
        },
        "id": "X0OsAaScoZ06",
        "outputId": "b6a9836e-4ae7-4a00-b73a-4298bc5c1b70"
      },
      "execution_count": 85,
      "outputs": [
        {
          "output_type": "stream",
          "name": "stdout",
          "text": [
            "Possíveis matches em cada bloco:\n",
            "                     nome  data_nasc         cpf                        mae     celular                   email  telefone_fixo                    nome_array primeiro_nome sobrenome   block_cpf\n",
            "MATHEUS ALBUQUERQUE SILVA 19/01/2015 58762423819 MARIANA SANTOS ALBUQUERQUE 11998970549 antonio.silva@gmail.com     1135494656 [MATHEUS, ALBUQUERQUE, SILVA]       MATHEUS     SILVA 58762423819\n",
            "   ENZO ALBUQUERQUE SILVA 19/01/2015 58762423819 MARIANA SANTOS ALBUQUERQUE 11998970549 antonio.silva@gmail.com     1135494656    [ENZO, ALBUQUERQUE, SILVA]          ENZO     SILVA 58762423819\n",
            "ANTONIO ALBUQUERQUE SILVA 24/07/1980 58762423819  LAURA ALBUQUERQUE CARDOSO 11998970549 antonio.silva@gmail.com     1135494656 [ANTONIO, ALBUQUERQUE, SILVA]       ANTONIO     SILVA 58762423819\n"
          ]
        }
      ]
    },
    {
      "cell_type": "markdown",
      "source": [
        "DEFINIÇÃO DE REGRA:\n",
        "* 6 PRIMEIROS DIGITOS DO CPF\n",
        "* DATA DE NASCIMENTO SEM CARACTER\n",
        "* E NOME"
      ],
      "metadata": {
        "id": "EIUiXolSs0pC"
      }
    },
    {
      "cell_type": "code",
      "source": [
        "# Extrair os 6 primeiros dígitos do CPF\n",
        "df_cadastro['cpf_prefix'] = df_cadastro['cpf'].str[:6]\n",
        "\n",
        "# Remover caracteres da data de nascimento e criar nova coluna com a data no formato 'ddmmaaaa'\n",
        "if 'data_nasc' in df_cadastro.columns:\n",
        "    df_cadastro['data_nasc_clean'] = df_cadastro['data_nasc'].str.replace('-', '').str.replace('/', '')\n",
        "\n",
        "# Criar a nova chave combinando CPF completo, Data de Nascimento limpa e Nome\n",
        "df_cadastro['new_key'] = df_cadastro['cpf'] + df_cadastro['data_nasc_clean'] + df_cadastro['primeiro_nome']\n",
        "\n",
        "# Criar os blocos com base na nova chave\n",
        "blocks = df_cadastro.groupby('new_key')\n",
        "\n",
        "# Listar os possíveis matches em cada bloco\n",
        "matches = []\n",
        "for key, block in blocks:\n",
        "    if len(block) > 1:  # Só consideramos blocos com mais de um registro\n",
        "        block['block_key'] = key  # Adiciona a chave de bloqueio ao DataFrame\n",
        "        matches.append(block)\n",
        "\n",
        "# Verificar o conteúdo de matches\n",
        "print(f\"Número de blocos com possíveis matches: {len(matches)}\")\n",
        "if matches:\n",
        "    # Concatenar todos os blocos em um único DataFrame\n",
        "    df_matches = pd.concat(matches, ignore_index=True)\n",
        "\n",
        "    # Exibir a tabela com possíveis matches\n",
        "    print(\"Possíveis matches em cada bloco:\")\n",
        "    print(df_matches.to_string(index=False))\n",
        "else:\n",
        "    print(\"Nenhum bloco com mais de um registro encontrado.\")\n"
      ],
      "metadata": {
        "colab": {
          "base_uri": "https://localhost:8080/"
        },
        "id": "YQpxX1nrquVH",
        "outputId": "dde5e8ce-bcb7-4981-b755-86199c0c4ea7"
      },
      "execution_count": 89,
      "outputs": [
        {
          "output_type": "stream",
          "name": "stdout",
          "text": [
            "Número de blocos com possíveis matches: 0\n",
            "Nenhum bloco com mais de um registro encontrado.\n"
          ]
        }
      ]
    },
    {
      "cell_type": "markdown",
      "source": [
        "LISTAR BLOCKING KEYS - Dados Médicos\n",
        "* Consulta por CPF"
      ],
      "metadata": {
        "id": "r7rsW2Tw2WeT"
      }
    },
    {
      "cell_type": "code",
      "source": [
        "# Criar os blocos com base na chave de bloqueio (cpf)\n",
        "blocks = df_dados_medicos.groupby('cpf')\n",
        "\n",
        "# Listar os possíveis matches em cada bloco\n",
        "matches = []\n",
        "for cpf, block in blocks:\n",
        "    if len(block) > 1:\n",
        "        block['block_cpf'] = cpf\n",
        "        matches.append(block)\n",
        "\n",
        "df_matches = pd.concat(matches)\n",
        "\n",
        "print(\"Possíveis matches em cada bloco:\")\n",
        "print(df_matches.to_string(index=False))"
      ],
      "metadata": {
        "colab": {
          "base_uri": "https://localhost:8080/"
        },
        "id": "tYwi-uoIpVuE",
        "outputId": "caf22482-1120-467f-c951-e8e285790e2e"
      },
      "execution_count": 92,
      "outputs": [
        {
          "output_type": "stream",
          "name": "stdout",
          "text": [
            "Possíveis matches em cada bloco:\n",
            "                          nome  data_nasc         cpf tipo_sanguineo  peso altura                          nome_array primeiro_nome  sobrenome cpf_prefix data_nasc_clean                       new_key   block_cpf\n",
            "         BENICIO IAGO SILVEIRA 01/01/1900 00000000000             O+    97   1,72           [BENICIO, IAGO, SILVEIRA]       BENICIO   SILVEIRA     000000        01011900    0000000000001011900BENICIO 00000000000\n",
            "         BETINA ELAINE DRUMOND 17/08/1995 00000000000            AB-    74   1,58           [BETINA, ELAINE, DRUMOND]        BETINA    DRUMOND     000000        17081995     0000000000017081995BETINA 00000000000\n",
            " SANDRA VITORIA LAVINIA BARROS 10/07/1958 00000000000            AB+    85   1,78  [SANDRA, VITORIA, LAVINIA, BARROS]        SANDRA     BARROS     000000        10071958     0000000000010071958SANDRA 00000000000\n",
            "     PEDRO MARCOS TIAGO GALVAO 08/08/1987 00000000000             B-   101   1,91      [PEDRO, MARCOS, TIAGO, GALVAO]         PEDRO     GALVAO     000000        08081987      0000000000008081987PEDRO 00000000000\n",
            "        JENNIFER A SABRINA PAZ 20/04/1942 00000000000             O-    71   1,82         [JENNIFER, A, SABRINA, PAZ]      JENNIFER        PAZ     000000        20041942   0000000000020041942JENNIFER 00000000000\n",
            "    TERESINHA BARBARA BAPTISTA 12/12/1968 00000000000             O+    71   1,78      [TERESINHA, BARBARA, BAPTISTA]     TERESINHA   BAPTISTA     000000        12121968  0000000000012121968TERESINHA 00000000000\n",
            "          THOMAS GUSTAVO PIRES 24/05/2001 00000000000            AB+    84   1,89            [THOMAS, GUSTAVO, PIRES]        THOMAS      PIRES     000000        24052001     0000000000024052001THOMAS 00000000000\n",
            "           DIOGO AUGUSTO PIRES 01/06/1984 00000000000            AB+    65   1,80             [DIOGO, AUGUSTO, PIRES]         DIOGO      PIRES     000000        01061984      0000000000001061984DIOGO 00000000000\n",
            " FELIPE GERALDO BENEDITO RAMOS 10/12/1945 00000000000             O-    59   1,63  [FELIPE, GERALDO, BENEDITO, RAMOS]        FELIPE      RAMOS     000000        10121945     0000000000010121945FELIPE 00000000000\n",
            "         ROSANGELA SARA SANTOS 05/04/1999 00000000000             B+    86   1,83           [ROSANGELA, SARA, SANTOS]     ROSANGELA     SANTOS     000000        05041999  0000000000005041999ROSANGELA 00000000000\n",
            "        CARLOS VICTOR ASSUNCAO 20/02/1999 00000000000            AB-    84   1,96          [CARLOS, VICTOR, ASSUNCAO]        CARLOS   ASSUNCAO     000000        20021999     0000000000020021999CARLOS 00000000000\n",
            "         VITORIA ANALU BARBOSA 05/08/1974 00000000000             O-    81   1,62           [VITORIA, ANALU, BARBOSA]       VITORIA    BARBOSA     000000        05081974    0000000000005081974VITORIA 00000000000\n",
            "         EMILLY NICOLE CARDOSO 03/10/1962 00000000000            AB+    68   1,82           [EMILLY, NICOLE, CARDOSO]        EMILLY    CARDOSO     000000        03101962     0000000000003101962EMILLY 00000000000\n",
            "             MAYA SANDRA PORTO 06/05/1962 00000000000            AB+    85   1,85               [MAYA, SANDRA, PORTO]          MAYA      PORTO     000000        06051962       0000000000006051962MAYA 00000000000\n",
            "           DIEGO JUAN OLIVEIRA 25/02/1960 00000000000             B+    61   1,61             [DIEGO, JUAN, OLIVEIRA]         DIEGO   OLIVEIRA     000000        25021960      0000000000025021960DIEGO 00000000000\n",
            "         MELISSA LUZIA REZENDE 01/07/1977 00000000000            AB-    85   1,51           [MELISSA, LUZIA, REZENDE]       MELISSA    REZENDE     000000        01071977    0000000000001071977MELISSA 00000000000\n",
            " GABRIEL GIOVANNI EDSON FOGACA 18/06/1996 00000000000             A-    76   1,80  [GABRIEL, GIOVANNI, EDSON, FOGACA]       GABRIEL     FOGACA     000000        18061996    0000000000018061996GABRIEL 00000000000\n",
            " JOAQUIM OTAVIO RAFAEL BARBOSA 14/10/1942 00000000000             O+    93   1,82  [JOAQUIM, OTAVIO, RAFAEL, BARBOSA]       JOAQUIM    BARBOSA     000000        14101942    0000000000014101942JOAQUIM 00000000000\n",
            "JENNIFER CAROLINA MARLENE GONC 21/01/1972 00000000000             A+    54   1,55 [JENNIFER, CAROLINA, MARLENE, GONC]      JENNIFER       GONC     000000        21011972   0000000000021011972JENNIFER 00000000000\n",
            "        EDSON ELIAS CAVALCANTI 25/09/1956 00000000000             B-    91   1,79          [EDSON, ELIAS, CAVALCANTI]         EDSON CAVALCANTI     000000        25091956      0000000000025091956EDSON 00000000000\n",
            "  THEO NELSON SERGIO BERNARDES 04/06/1948 00000000000             A+    54   1,76   [THEO, NELSON, SERGIO, BERNARDES]          THEO  BERNARDES     000000        04061948       0000000000004061948THEO 00000000000\n",
            "            SONIA TANIA BARROS 01/01/1900 00000000000             B+    80   1,58              [SONIA, TANIA, BARROS]         SONIA     BARROS     000000        01011900      0000000000001011900SONIA 00000000000\n",
            "LARISSA FATIMA CLARICE PEIXOTO 06/03/1981 00000000000             O-    65   1,57 [LARISSA, FATIMA, CLARICE, PEIXOTO]       LARISSA    PEIXOTO     000000        06031981    0000000000006031981LARISSA 00000000000\n",
            "          ELAINE PRISCILA MELO 27/11/1964 00000000000             A+    59   1,79            [ELAINE, PRISCILA, MELO]        ELAINE       MELO     000000        27111964     0000000000027111964ELAINE 00000000000\n",
            "       ALESSANDRA LUANA FARIAS 16/02/1982 00000000000             B-    59   1,68         [ALESSANDRA, LUANA, FARIAS]    ALESSANDRA     FARIAS     000000        16021982 0000000000016021982ALESSANDRA 00000000000\n",
            "              ISIS LAURA BRITO 11/11/1992 00000000000             O-    66   1,77                [ISIS, LAURA, BRITO]          ISIS      BRITO     000000        11111992       0000000000011111992ISIS 00000000000\n",
            "         LUCIA EMANUELLY SILVA 04/09/1966 00000000000             A-    57   1,54           [LUCIA, EMANUELLY, SILVA]         LUCIA      SILVA     000000        04091966      0000000000004091966LUCIA 00000000000\n",
            "         VALENTINA ELZA FARIAS 25/11/1996 00000000000            AB+    78   1,62           [VALENTINA, ELZA, FARIAS]     VALENTINA     FARIAS     000000        25111996  0000000000025111996VALENTINA 00000000000\n",
            "         AYLA CECILIA APARICIO 10/05/1966 00000000000             O+    57   1,58           [AYLA, CECILIA, APARICIO]          AYLA   APARICIO     000000        10051966       0000000000010051966AYLA 00000000000\n",
            "         MANUEL RODRIGO MORAES 13/03/1900 00000000000            AB+    90   1,72           [MANUEL, RODRIGO, MORAES]        MANUEL     MORAES     000000        13031900     0000000000013031900MANUEL 00000000000\n",
            "AUGUSTO BENTO MARCOS VINICIUS  12/11/1942 00000000000             O+    77   1,90  [AUGUSTO, BENTO, MARCOS, VINICIUS]       AUGUSTO   VINICIUS     000000        12111942    0000000000012111942AUGUSTO 00000000000\n",
            "            CESAR THEO BARBOSA 25/06/1954 00000000000             B+    95   1,74              [CESAR, THEO, BARBOSA]         CESAR    BARBOSA     000000        25061954      0000000000025061954CESAR 00000000000\n",
            "               RYAN THEO PINTO 20/10/1996 00000000000             A-    75   1,75                 [RYAN, THEO, PINTO]          RYAN      PINTO     000000        20101996       0000000000020101996RYAN 00000000000\n",
            "          BRYAN RAIMUNDO ROCHA 01/01/1900 00000000000             O-    83   1,99            [BRYAN, RAIMUNDO, ROCHA]         BRYAN      ROCHA     000000        01011900      0000000000001011900BRYAN 00000000000\n",
            "          ENRICO HUGO TEIXEIRA 22/10/1946 00000000000             B+    53   1,79            [ENRICO, HUGO, TEIXEIRA]        ENRICO   TEIXEIRA     000000        22101946     0000000000022101946ENRICO 00000000000\n",
            " YURI ALEXANDRE LEONARDO LOPES 03/08/1963 00000000000             O+    92   1,68  [YURI, ALEXANDRE, LEONARDO, LOPES]          YURI      LOPES     000000        03081963       0000000000003081963YURI 00000000000\n",
            "          YAGO JOSE NASCIMENTO 01/01/1900 00000000000             B-    65   1,79            [YAGO, JOSE, NASCIMENTO]          YAGO NASCIMENTO     000000        01011900       0000000000001011900YAGO 00000000000\n",
            "         FLAVIA B CARLA CASTRO 01/01/1900 00000000000             A-    81   1,55          [FLAVIA, B, CARLA, CASTRO]        FLAVIA     CASTRO     000000        01011900     0000000000001011900FLAVIA 00000000000\n",
            "              LAIS RITA CAMPOS 01/01/1900 00000000000            AB-    57   1,61                [LAIS, RITA, CAMPOS]          LAIS     CAMPOS     000000        01011900       0000000000001011900LAIS 00000000000\n",
            "  ISADORA BEATRIZ PIETRA PAULA 16/06/1985 00000000000             A-    45   1,60   [ISADORA, BEATRIZ, PIETRA, PAULA]       ISADORA      PAULA     000000        16061985    0000000000016061985ISADORA 00000000000\n",
            "LAVINIA PIETRA RAIMUNDA TEIXEI 01/01/1900 00000000000             O+    77   1,82 [LAVINIA, PIETRA, RAIMUNDA, TEIXEI]       LAVINIA     TEIXEI     000000        01011900    0000000000001011900LAVINIA 00000000000\n",
            "           EMILY PIETRA NOVAES 11/05/1948 00000000000             O+    59   1,78             [EMILY, PIETRA, NOVAES]         EMILY     NOVAES     000000        11051948      0000000000011051948EMILY 00000000000\n",
            "          ANDREIA JULIANA MELO 22/02/1948 00000000000             O+    84   1,59            [ANDREIA, JULIANA, MELO]       ANDREIA       MELO     000000        22021948    0000000000022021948ANDREIA 00000000000\n",
            "          RENATO DANIEL SANTOS 01/01/1900 00000000000            AB-    83   1,60            [RENATO, DANIEL, SANTOS]        RENATO     SANTOS     000000        01011900     0000000000001011900RENATO 00000000000\n",
            "            DIOGO MANUEL COSTA 07/06/1991 00000000000             B-    63   1,62              [DIOGO, MANUEL, COSTA]         DIOGO      COSTA     000000        07061991      0000000000007061991DIOGO 00000000000\n",
            "    BENEDITA REGINA CAVALCANTI 19/03/1979 00000000000             A+    87   1,83      [BENEDITA, REGINA, CAVALCANTI]      BENEDITA CAVALCANTI     000000        19031979   0000000000019031979BENEDITA 00000000000\n",
            "        SOPHIE MARLI RODRIGUES 07/06/1970 00000000000             B+    55   1,80          [SOPHIE, MARLI, RODRIGUES]        SOPHIE  RODRIGUES     000000        07061970     0000000000007061970SOPHIE 00000000000\n",
            "       BRUNO NOAH OLIVER PAULA 10/06/1955 00000000000             B-    68   1,64        [BRUNO, NOAH, OLIVER, PAULA]         BRUNO      PAULA     000000        10061955      0000000000010061955BRUNO 00000000000\n",
            "            CLAUDIA TANIA LIMA 17/01/1976 00000000000             A-    55   1,54              [CLAUDIA, TANIA, LIMA]       CLAUDIA       LIMA     000000        17011976    0000000000017011976CLAUDIA 00000000000\n",
            "            LORENZO JOSE LOPES 16/04/1993 00000000000             O-    80   1,66              [LORENZO, JOSE, LOPES]       LORENZO      LOPES     000000        16041993    0000000000016041993LORENZO 00000000000\n",
            "    EDSON ISAAC RENATO PEREIRA 05/10/1973 00000000000             B+    83   1,66     [EDSON, ISAAC, RENATO, PEREIRA]         EDSON    PEREIRA     000000        05101973      0000000000005101973EDSON 00000000000\n",
            "        JOSEFA ISIS EMILY MOTA 13/10/1944 00000000000             A+    77   1,78         [JOSEFA, ISIS, EMILY, MOTA]        JOSEFA       MOTA     000000        13101944     0000000000013101944JOSEFA 00000000000\n",
            "          MARIAH ELIANE SANTOS 06/04/1980 00000000000             A-    54   1,78            [MARIAH, ELIANE, SANTOS]        MARIAH     SANTOS     000000        06041980     0000000000006041980MARIAH 00000000000\n",
            "         LETICIA MARCIA VIEIRA 03/01/1968 00000000000             B-    67   1,76           [LETICIA, MARCIA, VIEIRA]       LETICIA     VIEIRA     000000        03011968    0000000000003011968LETICIA 00000000000\n",
            "RICARDO KEVIN NELSON RODRIGUES 01/01/1900 00000000000             A+   106   1,61 [RICARDO, KEVIN, NELSON, RODRIGUES]       RICARDO  RODRIGUES     000000        01011900    0000000000001011900RICARDO 00000000000\n",
            "       SEBASTIAO THALES ALMADA 01/01/1900 00000000000             O+   109   1,60         [SEBASTIAO, THALES, ALMADA]     SEBASTIAO     ALMADA     000000        01011900  0000000000001011900SEBASTIAO 00000000000\n",
            "    VERA MARIANE MARCELA ASSIS 02/03/1978 00000000000             A-    78   1,72     [VERA, MARIANE, MARCELA, ASSIS]          VERA      ASSIS     000000        02031978       0000000000002031978VERA 00000000000\n",
            "  LAURA SUELI MIRELLA MONTEIRO 19/04/1987 00000000000             A-    90   1,79   [LAURA, SUELI, MIRELLA, MONTEIRO]         LAURA   MONTEIRO     000000        19041987      0000000000019041987LAURA 00000000000\n",
            "     MARCIA ISABELA ALINE CRUZ 05/11/1981 00000000000            AB+    60   1,80      [MARCIA, ISABELA, ALINE, CRUZ]        MARCIA       CRUZ     000000        05111981     0000000000005111981MARCIA 00000000000\n",
            "        LAIS PIETRA ALICE CRUZ 15/08/1949 00000000000            AB+    48   1,73         [LAIS, PIETRA, ALICE, CRUZ]          LAIS       CRUZ     000000        15081949       0000000000015081949LAIS 00000000000\n",
            "           ISADORA LUZIA BRITO 01/01/1900 00000000000             O-    73   1,69             [ISADORA, LUZIA, BRITO]       ISADORA      BRITO     000000        01011900    0000000000001011900ISADORA 00000000000\n",
            "   BERNARDO R ROBERTO SILVEIRA 03/02/1968 00000000000             B+    84   1,75    [BERNARDO, R, ROBERTO, SILVEIRA]      BERNARDO   SILVEIRA     000000        03021968   0000000000003021968BERNARDO 00000000000\n",
            "       SILVANA JOANA CONCEICAO 23/08/1971 00000000000            AB+    47   1,56         [SILVANA, JOANA, CONCEICAO]       SILVANA  CONCEICAO     000000        23081971    0000000000023081971SILVANA 00000000000\n",
            "       RAYSSA D PRISCILA ALVES 21/08/1950 00000000000             O-    55   1,71        [RAYSSA, D, PRISCILA, ALVES]        RAYSSA      ALVES     000000        21081950     0000000000021081950RAYSSA 00000000000\n",
            "          EMILLY SARAH DRUMOND 15/02/1984 00000000000            AB-    57   1,54            [EMILLY, SARAH, DRUMOND]        EMILLY    DRUMOND     000000        15021984     0000000000015021984EMILLY 00000000000\n",
            "     MATHEUS ALBUQUERQUE SILVA 19-01-2015 58762423819             A-    13   1,07       [MATHEUS, ALBUQUERQUE, SILVA]       MATHEUS      SILVA     587624        19012015    5876242381919012015MATHEUS 58762423819\n",
            "        ENZO ALBUQUERQUE SILVA 19-01-2015 58762423819             A-    14   1,04          [ENZO, ALBUQUERQUE, SILVA]          ENZO      SILVA     587624        19012015       5876242381919012015ENZO 58762423819\n",
            "     ANTONIO ALBUQUERQUE SILVA 24-07-1980 58762423819             A-    80   1,82       [ANTONIO, ALBUQUERQUE, SILVA]       ANTONIO      SILVA     587624        24071980    5876242381924071980ANTONIO 58762423819\n"
          ]
        }
      ]
    },
    {
      "cell_type": "code",
      "source": [
        "# Extrair os 6 primeiros dígitos do CPF\n",
        "df_dados_medicos['cpf_prefix'] = df_dados_medicos['cpf'].str[:6]\n",
        "\n",
        "# Remover caracteres da data de nascimento e criar nova coluna com a data no formato 'ddmmaaaa'\n",
        "if 'data_nasc' in df_dados_medicos.columns:\n",
        "    df_dados_medicos['data_nasc_clean'] = df_dados_medicos['data_nasc'].str.replace('-', '').str.replace('/', '')\n",
        "\n",
        "# Criar a nova chave combinando CPF completo, Data de Nascimento limpa e Nome\n",
        "df_dados_medicos['new_key'] = df_dados_medicos['cpf'] + df_dados_medicos['data_nasc_clean'] + df_dados_medicos['primeiro_nome']\n",
        "\n",
        "# Criar os blocos com base na nova chave\n",
        "blocks = df_dados_medicos.groupby('new_key')\n",
        "\n",
        "# Listar os possíveis matches em cada bloco\n",
        "matches = []\n",
        "for key, block in blocks:\n",
        "    if len(block) > 1:  # Só consideramos blocos com mais de um registro\n",
        "        block['block_key'] = key  # Adiciona a chave de bloqueio ao DataFrame\n",
        "        matches.append(block)\n",
        "\n",
        "# Verificar o conteúdo de matches\n",
        "print(f\"Número de blocos com possíveis matches: {len(matches)}\")\n",
        "if matches:\n",
        "    # Concatenar todos os blocos em um único DataFrame\n",
        "    df_matches = pd.concat(matches, ignore_index=True)\n",
        "\n",
        "    # Exibir a tabela com possíveis matches\n",
        "    print(\"Possíveis matches em cada bloco:\")\n",
        "    print(df_matches.to_string(index=False))\n",
        "else:\n",
        "    print(\"Nenhum bloco com mais de um registro encontrado.\")\n"
      ],
      "metadata": {
        "colab": {
          "base_uri": "https://localhost:8080/"
        },
        "id": "KrpXYx0MrxIp",
        "outputId": "bd84f5b8-1ade-41d8-c24e-575fe21d3835"
      },
      "execution_count": 93,
      "outputs": [
        {
          "output_type": "stream",
          "name": "stdout",
          "text": [
            "Número de blocos com possíveis matches: 0\n",
            "Nenhum bloco com mais de um registro encontrado.\n"
          ]
        }
      ]
    },
    {
      "cell_type": "markdown",
      "metadata": {
        "id": "B1CVKuAHFrAB"
      },
      "source": [
        "Exercício 4: Comparação par a par\n",
        "*    Desenvolver um algoritmo de comparação de cada match potencial do exercício anterior\n",
        "*    Definir uma nota de similaridade para cada comparação\n",
        " *   Para cada parâmetro"
      ]
    },
    {
      "cell_type": "code",
      "source": [
        "import pandas as pd\n",
        "from fuzzywuzzy import fuzz\n",
        "\n",
        "# Função para calcular a similaridade entre dois registros\n",
        "def calcular_similaridade(registro1, registro2):\n",
        "    similaridade = {}\n",
        "\n",
        "    # Comparar CPF (exemplo simples, você pode usar mais lógica para comparar CPFs)\n",
        "    similaridade['cpf'] = 100 if registro1['cpf'] == registro2['cpf'] else 0\n",
        "\n",
        "    # Comparar data de nascimento\n",
        "    similaridade['data_nasc'] = 100 if registro1['data_nasc_clean'] == registro2['data_nasc_clean'] else 0\n",
        "\n",
        "    # Comparar nome usando fuzzy matching\n",
        "    similaridade['nome'] = fuzz.ratio(registro1['primeiro_nome'], registro2['primeiro_nome'])\n",
        "\n",
        "    # Calcular a nota média de similaridade\n",
        "    nota_media = sum(similaridade.values()) / len(similaridade)\n",
        "\n",
        "    return similaridade, nota_media\n",
        "\n",
        "# Comparar registros dentro de um bloco\n",
        "def comparar_blocos(bloco):\n",
        "    similaridade_results = []\n",
        "    num_registros = len(bloco)\n",
        "\n",
        "    # Comparar cada par de registros no bloco\n",
        "    for i in range(num_registros):\n",
        "        for j in range(i + 1, num_registros):\n",
        "            registro1 = bloco.iloc[i]\n",
        "            registro2 = bloco.iloc[j]\n",
        "\n",
        "            similaridade, nota_media = calcular_similar\n"
      ],
      "metadata": {
        "id": "KR2RnjmI-zlY"
      },
      "execution_count": null,
      "outputs": []
    },
    {
      "cell_type": "markdown",
      "metadata": {
        "id": "llXsKDA5GBfh"
      },
      "source": [
        "Exercício 5: Classificação\n",
        "*    Classificar cada par, baseado num threshold\n",
        "*    Definir um peso para cada parâmetro"
      ]
    },
    {
      "cell_type": "code",
      "metadata": {
        "id": "tB8MkZ4Q3QPF"
      },
      "source": [
        "#Seu código aqui"
      ],
      "execution_count": null,
      "outputs": []
    },
    {
      "cell_type": "markdown",
      "metadata": {
        "id": "jQNgFY6-GO7o"
      },
      "source": [
        "Exercício 6: Avaliação\n",
        "*     Buscar uma amostra das classificações (de 10 a 20 registros)\n",
        "*     Classificar cada uma em TP, TN, FP, FN\n",
        "*     Calcular acurácia, precisão e recall"
      ]
    },
    {
      "cell_type": "code",
      "metadata": {
        "id": "DJrHPn193FWe"
      },
      "source": [
        "#Seu código aqui"
      ],
      "execution_count": null,
      "outputs": []
    }
  ]
}